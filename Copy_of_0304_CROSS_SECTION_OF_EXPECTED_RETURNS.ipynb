{
  "nbformat": 4,
  "nbformat_minor": 0,
  "metadata": {
    "colab": {
      "provenance": [],
      "machine_shape": "hm",
      "authorship_tag": "ABX9TyNv9wqp8bNRnB7jMUC1Zo7D",
      "include_colab_link": true
    },
    "kernelspec": {
      "name": "python3",
      "display_name": "Python 3"
    },
    "language_info": {
      "name": "python"
    },
    "gpuClass": "standard"
  },
  "cells": [
    {
      "cell_type": "markdown",
      "metadata": {
        "id": "view-in-github",
        "colab_type": "text"
      },
      "source": [
        "<a href=\"https://colab.research.google.com/github/shantanu2383/Ball-2020/blob/main/Copy_of_0304_CROSS_SECTION_OF_EXPECTED_RETURNS.ipynb\" target=\"_parent\"><img src=\"https://colab.research.google.com/assets/colab-badge.svg\" alt=\"Open In Colab\"/></a>"
      ]
    },
    {
      "cell_type": "markdown",
      "source": [
        "# Earnings, Retained Earnings and B/M in the cross section of expected returns"
      ],
      "metadata": {
        "id": "2mU85gHg40dZ"
      }
    },
    {
      "cell_type": "code",
      "execution_count": null,
      "metadata": {
        "id": "M0q4bPmz4vcD",
        "colab": {
          "base_uri": "https://localhost:8080/"
        },
        "outputId": "0889b0b2-2c91-4a2d-af9f-cd005b948482"
      },
      "outputs": [
        {
          "output_type": "stream",
          "name": "stdout",
          "text": [
            "Mounted at /content/gdrive\n",
            "Looking in indexes: https://pypi.org/simple, https://us-python.pkg.dev/colab-wheels/public/simple/\n",
            "Collecting pandasql\n",
            "  Downloading pandasql-0.7.3.tar.gz (26 kB)\n",
            "  Preparing metadata (setup.py) ... \u001b[?25l\u001b[?25hdone\n",
            "Requirement already satisfied: numpy in /usr/local/lib/python3.9/dist-packages (from pandasql) (1.22.4)\n",
            "Requirement already satisfied: pandas in /usr/local/lib/python3.9/dist-packages (from pandasql) (1.4.4)\n",
            "Requirement already satisfied: sqlalchemy in /usr/local/lib/python3.9/dist-packages (from pandasql) (1.4.46)\n",
            "Requirement already satisfied: python-dateutil>=2.8.1 in /usr/local/lib/python3.9/dist-packages (from pandas->pandasql) (2.8.2)\n",
            "Requirement already satisfied: pytz>=2020.1 in /usr/local/lib/python3.9/dist-packages (from pandas->pandasql) (2022.7.1)\n",
            "Requirement already satisfied: greenlet!=0.4.17 in /usr/local/lib/python3.9/dist-packages (from sqlalchemy->pandasql) (2.0.2)\n",
            "Requirement already satisfied: six>=1.5 in /usr/local/lib/python3.9/dist-packages (from python-dateutil>=2.8.1->pandas->pandasql) (1.15.0)\n",
            "Building wheels for collected packages: pandasql\n",
            "  Building wheel for pandasql (setup.py) ... \u001b[?25l\u001b[?25hdone\n",
            "  Created wheel for pandasql: filename=pandasql-0.7.3-py3-none-any.whl size=26782 sha256=42986f2d8ebc168bcb3775c12706d50a082c5b7ac60ca623cd2fd694a1a719f2\n",
            "  Stored in directory: /root/.cache/pip/wheels/63/e8/ec/75b1df467ecf57b6ececb32cb16f4e86697cbfe55cb0c51f07\n",
            "Successfully built pandasql\n",
            "Installing collected packages: pandasql\n",
            "Successfully installed pandasql-0.7.3\n"
          ]
        }
      ],
      "source": [
        "from google.colab import drive\n",
        "drive.mount(\"/content/gdrive\", force_remount=True)\n",
        "\n",
        "\n",
        "import pandas as pd\n",
        "import statsmodels.formula.api as smf \n",
        "import numpy as np \n",
        "import matplotlib.pyplot as plt\n",
        "\n",
        "!pip install pandasql\n",
        "import os\n",
        "from datetime import datetime\n",
        "from sklearn.model_selection import train_test_split\n",
        "from statsmodels.tsa.stattools import adfuller\n",
        "from statsmodels.tsa.seasonal import seasonal_decompose\n",
        "from statsmodels.tsa.arima_model import ARIMA \n",
        "from sklearn.metrics import mean_squared_error, mean_absolute_error \n",
        "\n",
        "import math\n",
        "import matplotlib.pyplot as plt \n",
        "from datetime import datetime\n",
        "import seaborn as sns \n",
        "import pandasql as ps\n",
        "\n",
        "from sqlite3 import connect\n",
        "conn=connect(':memory:')"
      ]
    },
    {
      "cell_type": "markdown",
      "source": [
        "# DATALOAD"
      ],
      "metadata": {
        "id": "FkueNHcB5UJM"
      }
    },
    {
      "cell_type": "markdown",
      "source": [
        "CRSP:"
      ],
      "metadata": {
        "id": "TIVgbZXg5Vy9"
      }
    },
    {
      "cell_type": "code",
      "source": [
        "filepath=\"/content/gdrive/MyDrive/B_M/\"\n",
        "\n",
        "file=\"CRSPMONTHLY.csv\"\n",
        "crsp=pd.read_csv(filepath + file)\n",
        "\n",
        "crsp['date'] = pd.to_datetime(crsp['date'], format=\"%Y%m%d\")\n",
        "\n",
        "\n",
        "crsp=crsp[(\"1960-01-01\"<=crsp['date']) & (crsp['date']< \"2019-01-01\")]\n",
        "crsp_parsed=crsp[['PERMNO', 'date', 'RET', 'SHROUT', 'ALTPRC', 'EXCHCD', 'SHRCD', 'SICCD', 'DLRET', 'DLSTCD', 'VOL']]\n",
        "crsp=crsp_parsed\n",
        "\n",
        "\n",
        "x=['PERMNO', 'RET', 'SHROUT', 'ALTPRC', 'EXCHCD', 'SHRCD', 'SICCD', 'DLRET', 'DLSTCD']\n",
        "\n",
        "for i in x:\n",
        "  crsp[i]=pd.to_numeric(crsp[i], errors='coerce')\n",
        "\n",
        "\n",
        "#convert returns to percent:\n",
        "crsp['RET']*=100\n",
        "crsp['DLRET']*=100\n",
        "\n",
        "\n",
        "#add market cap column\n",
        "crsp['mkt_cap']=abs(crsp['SHROUT'] * crsp['ALTPRC'])/1000\n",
        "crsp['mkt_cap'].replace(0, np.NaN, inplace=True)\n",
        "\n",
        "\n",
        "#ONLY KEEP US BASED COMMON STOCKS\n",
        "crsp=crsp[(crsp['SHRCD']==10)|(crsp['SHRCD']==11)]\n",
        "\n",
        "#rename variables to lower case\n",
        "crsp= crsp.rename(columns=str.lower)\n",
        "\n",
        "#filter for relevant exchanges\n",
        "exchange_mapping = {\n",
        "    1: 'NYSE', 31: 'NYSE',\n",
        "    2: 'AMEX', 32: 'AMEX',\n",
        "    3: 'NASDAQ', 33: 'NASDAQ'\n",
        "}\n",
        "#create dictionary to map values of the 'exchcd' column\n",
        "crsp['exchange'] = np.select(\n",
        "    [crsp['exchcd'].isin(exchange_mapping.keys()), crsp['exchcd'].notnull()],\n",
        "    [crsp['exchcd'].map(exchange_mapping), \"Other\"],\n",
        "    default='Other')\n",
        "\n",
        "\n",
        "#Adjust Returns\n",
        "crsp['ret_adj'] = crsp['ret']\n",
        "\n",
        "mask1 = pd.isnull(crsp['dlstcd'])\n",
        "crsp.loc[mask1, 'ret_adj'] = crsp.loc[mask1, 'ret']\n",
        "\n",
        "mask2 = pd.notnull(crsp['dlstcd']) & pd.notnull(crsp['dlret'])\n",
        "crsp.loc[mask2, 'ret_adj'] = crsp.loc[mask2, 'dlret']\n",
        "\n",
        "mask3 = ((551 <= crsp['dlstcd']) & (crsp['dlstcd'] <= 574)) | (crsp['dlstcd'].isin([500, 520, 580, 584]))\n",
        "crsp.loc[mask3, 'ret_adj'] = -30\n",
        "\n",
        "crsp.loc[~(mask1 | mask2 | mask3), 'ret_adj'] = -100\n",
        "\n",
        "crsp.drop(['shrcd', 'dlret', 'dlstcd'], inplace=True, axis=1)\n",
        "\n",
        "#exclude financial firms \n",
        "crsp=crsp[(crsp['siccd']<6000) |(crsp['siccd']>6999) ]\n",
        "\n",
        "\n",
        "#Add reference date for matching with Compustat\n",
        "\n",
        "crsp['date']=pd.to_datetime(crsp['date'])\n",
        "crsp['year']=crsp['date'].dt.year\n",
        "\n",
        "crsp['reference_date']=pd.to_datetime(crsp['year'].astype(str) +'-06-01')\n",
        "\n",
        "crsp.loc[crsp['date'].dt.month < 6, 'year'] -= 1\n",
        "\n",
        "crsp.loc[crsp['date'].dt.month < 6, 'reference_date'] = pd.to_datetime(\n",
        "    crsp['year'].astype(str) + '-06-01')\n",
        "\n",
        "crsp = crsp.drop('year', axis=1)\n",
        "\n",
        "crsp.set_index('date', inplace=True)\n",
        "\n",
        "crsp.sort_values(by=['date', 'permno'], inplace=True)"
      ],
      "metadata": {
        "colab": {
          "base_uri": "https://localhost:8080/"
        },
        "id": "FlCYgPV35Ts3",
        "outputId": "441c8dd6-4463-4c10-cee9-c5217859ef63"
      },
      "execution_count": null,
      "outputs": [
        {
          "output_type": "stream",
          "name": "stderr",
          "text": [
            "<ipython-input-2-0ead0e28d922>:4: DtypeWarning: Columns (5,6,9,18,19,38,40) have mixed types. Specify dtype option on import or set low_memory=False.\n",
            "  crsp=pd.read_csv(filepath + file)\n",
            "<ipython-input-2-0ead0e28d922>:71: SettingWithCopyWarning: \n",
            "A value is trying to be set on a copy of a slice from a DataFrame.\n",
            "Try using .loc[row_indexer,col_indexer] = value instead\n",
            "\n",
            "See the caveats in the documentation: https://pandas.pydata.org/pandas-docs/stable/user_guide/indexing.html#returning-a-view-versus-a-copy\n",
            "  crsp['date']=pd.to_datetime(crsp['date'])\n"
          ]
        }
      ]
    },
    {
      "cell_type": "code",
      "source": [
        "#drop any securities that do not have observations for t-12 returns\n",
        "columns=[]\n",
        "for x in range(1,13):\n",
        "  label=f\"return_t-{x}\"\n",
        "  columns.append(label)\n",
        "  crsp[f'return_t-{x}']=crsp.groupby('permno')['ret_adj'].shift(x)\n",
        "\n",
        "crsp.dropna(subset=columns, inplace=True)\n",
        "\n",
        "crsp.dropna(subset=['ret_adj'], inplace=True)"
      ],
      "metadata": {
        "id": "6asy7LZk8NeE"
      },
      "execution_count": null,
      "outputs": []
    },
    {
      "cell_type": "markdown",
      "source": [
        "Compustat:"
      ],
      "metadata": {
        "id": "CbNq54pu58mx"
      }
    },
    {
      "cell_type": "code",
      "source": [
        "filepath=\"/content/gdrive/MyDrive/B_M/\"\n",
        "\n",
        "compustat=pd.read_csv(filepath + \"compustat.csv\")\n",
        "compustat\n",
        "\n",
        "#parse relevant variables from compustat\n",
        "compustat= compustat.rename(columns=str.lower)\n",
        "x=['gvkey', 'lpermno', 'datadate', 'linktype', 'linkenddt', 'seq', 'ceq',\n",
        "                    'at', 'lt', 'txditc', 'txdb', 'itcb', 'pstkrv', 'pstkl', 'pstk', 'indfmt', 'datafmt',\n",
        "                     'revt', 'cogs', 'xint', 'xsga', 'xrd', 'rect', 'invt', 'xpp', 'drc', 'drlt', 'ap', 'xacc',\n",
        "                      'cstk', 'caps', 'tstk', 're', 'acominc', 'mkvalt']\n",
        "\n",
        "compustat=compustat[x]\n",
        "\n",
        "\n",
        "dates=['datadate', 'linkenddt']\n",
        "for date in dates:\n",
        "  compustat[date]=pd.to_datetime(compustat[date], format=\"%Y%m%d\", errors='coerce')\n",
        "\n",
        "#filter columns\n",
        "compustat['datafmt']=compustat['datafmt'].apply(str)\n",
        "compustat=compustat[compustat[\"indfmt\"]==\"INDL\"]\n",
        "compustat=compustat[compustat['datafmt']==\"STD\"]\n",
        "\n",
        "#Only keep valid links\n",
        "compustat=compustat[(compustat[\"linktype\"]==\"LU\")| (compustat[\"linktype\"]==\"LC\")]\n",
        "\n",
        "#Only keep links active at datadate\n",
        "compustat=compustat[(compustat['datadate']<=compustat[\"linkenddt\"]) | pd.isnull(compustat['linkenddt'])]\n",
        "\n",
        "#calculate book value using FF definition\n",
        "compustat.to_sql(\"compustat\", conn, if_exists='replace')\n",
        "\n",
        "query='''\n",
        "        SELECT DISTINCT *,\n",
        "        COALESCE(seq, ceq+pstk, at-lt) + COALESCE(txditc, txdb + itcb, 0)- COALESCE(pstkrv, pstkl, pstk, 0) as book_value\n",
        "        FROM compustat'''\n",
        "\n",
        "compustat_calc=pd.read_sql(query, conn)\n",
        "\n",
        "compustat=compustat_calc\n",
        "#add reference date for matching- We lag accounting information by 6 months,\n",
        "#therefore if a firms financial year ends in June, we assume this information is\n",
        "#available to investors the following June\n",
        "compustat['datadate']=pd.to_datetime(compustat['datadate'], errors='coerce')\n",
        "\n",
        "compustat['year']=compustat['datadate'].dt.year\n",
        "compustat['year']=pd.to_numeric(compustat['year'], errors='coerce')\n",
        "compustat['reference_date']=compustat['year']+1\n",
        "compustat['reference_date']=compustat['reference_date'].apply(str)\n",
        "compustat['reference_date']+=\"-06-01\"\n",
        "compustat['reference_date']=pd.to_datetime(compustat['reference_date'])"
      ],
      "metadata": {
        "colab": {
          "base_uri": "https://localhost:8080/"
        },
        "id": "Rp-txrQS58AA",
        "outputId": "527ee78c-f673-4558-8b7e-7a1de5837124"
      },
      "execution_count": null,
      "outputs": [
        {
          "output_type": "stream",
          "name": "stderr",
          "text": [
            "<ipython-input-4-46f956b25077>:3: DtypeWarning: Columns (2,15,17,18,19,23,24,29,33,37,952,953,955,956,957,962,976,977,982) have mixed types. Specify dtype option on import or set low_memory=False.\n",
            "  compustat=pd.read_csv(filepath + \"compustat.csv\")\n"
          ]
        }
      ]
    },
    {
      "cell_type": "code",
      "source": [
        "compustat['re'].isnull().sum()\n"
      ],
      "metadata": {
        "colab": {
          "base_uri": "https://localhost:8080/"
        },
        "id": "tLu8WjBfEzkb",
        "outputId": "192f51b8-b06a-4b1f-d5c8-d46f0c2ca5c6"
      },
      "execution_count": null,
      "outputs": [
        {
          "output_type": "execute_result",
          "data": {
            "text/plain": [
              "29503"
            ]
          },
          "metadata": {},
          "execution_count": 5
        }
      ]
    },
    {
      "cell_type": "markdown",
      "source": [
        "Match Compustat to Crsp on Reference Date (lagged 6 months)"
      ],
      "metadata": {
        "id": "9WhT9Jux8wLD"
      }
    },
    {
      "cell_type": "code",
      "source": [
        "compustat.rename(columns={'lpermno':'permno'}, inplace=True)\n",
        "#compustat.drop('index', axis=1, inplace=True)\n",
        "\n",
        "#compustat.rename(columns={'da_a/t-1': 'da_a_t_1'}, inplace=True)\n",
        "crsp.to_sql(\"crsp\", conn, if_exists='replace')\n",
        "compustat.to_sql(\"compustat\", conn, if_exists='replace')\n",
        "\n",
        "query='''\n",
        "        SELECT DISTINCT crsp.*, c.gvkey, c.seq, c.ceq, c.at, c.lt, \n",
        "        c.txditc, c.txdb, c.itcb, c.pstkrv, c.pstkl, c.pstk,\n",
        "        c.revt, c.cogs, c.xint, c.xsga, c.xrd, c.rect, c.invt,\n",
        "        c.xpp, c.drc, c.drlt, c.ap, c.xacc, c.cstk, c.caps, c.tstk,\n",
        "        c.re, c.acominc, c.mkvalt, c.book_value\n",
        "        FROM crsp\n",
        "        LEFT JOIN compustat c\n",
        "        ON crsp.permno=c.permno\n",
        "        AND crsp.reference_date=c.reference_date\n",
        "        '''\n",
        "crsp_comp=pd.read_sql(query, conn)\n",
        "crsp=crsp_comp\n"
      ],
      "metadata": {
        "id": "631w2Pu28uUk"
      },
      "execution_count": null,
      "outputs": []
    },
    {
      "cell_type": "markdown",
      "source": [
        "Extract market cap at end of year as 'market value of equity'"
      ],
      "metadata": {
        "id": "r45_VkHu81W4"
      }
    },
    {
      "cell_type": "code",
      "source": [
        "crsp['date'] = pd.to_datetime(crsp['date'])\n",
        "me=crsp[(crsp['date'].dt.month==12)]\n",
        "me['reference_date']=(me['date'].dt.year) + 1\n",
        "me['reference_date']=me['reference_date'].apply(str)\n",
        "me['reference_date']+=\"-06-01\"\n",
        "me['reference_date']=pd.to_datetime(me['reference_date'])\n",
        "\n",
        "me.to_sql('me', conn, if_exists='replace')\n",
        "\n",
        "query='''\n",
        "        SELECT DISTINCT permno, reference_date, mkt_cap as market_equity\n",
        "        FROM me\n",
        "        '''\n",
        "me=pd.read_sql(query, conn)\n",
        "\n",
        "\n",
        "crsp.to_sql('crsp', conn, if_exists='replace')\n",
        "me.to_sql('me', conn, if_exists='replace')\n",
        "\n",
        "query='''\n",
        "        SELECT DISTINCT crsp.*, me.market_equity\n",
        "        FROM crsp\n",
        "        LEFT JOIN me\n",
        "        ON crsp.permno=me.permno\n",
        "        AND crsp.reference_date=me.reference_date\n",
        "        '''\n",
        "crsp_me=pd.read_sql(query, conn)\n",
        "\n",
        "crsp=crsp_me"
      ],
      "metadata": {
        "colab": {
          "base_uri": "https://localhost:8080/"
        },
        "id": "m9K111-58z_3",
        "outputId": "2baa7974-7ecb-4a55-e9ac-eda5e5a135ae"
      },
      "execution_count": null,
      "outputs": [
        {
          "output_type": "stream",
          "name": "stderr",
          "text": [
            "<ipython-input-7-acd63386657f>:3: SettingWithCopyWarning: \n",
            "A value is trying to be set on a copy of a slice from a DataFrame.\n",
            "Try using .loc[row_indexer,col_indexer] = value instead\n",
            "\n",
            "See the caveats in the documentation: https://pandas.pydata.org/pandas-docs/stable/user_guide/indexing.html#returning-a-view-versus-a-copy\n",
            "  me['reference_date']=(me['date'].dt.year) + 1\n",
            "<ipython-input-7-acd63386657f>:4: SettingWithCopyWarning: \n",
            "A value is trying to be set on a copy of a slice from a DataFrame.\n",
            "Try using .loc[row_indexer,col_indexer] = value instead\n",
            "\n",
            "See the caveats in the documentation: https://pandas.pydata.org/pandas-docs/stable/user_guide/indexing.html#returning-a-view-versus-a-copy\n",
            "  me['reference_date']=me['reference_date'].apply(str)\n",
            "<ipython-input-7-acd63386657f>:5: SettingWithCopyWarning: \n",
            "A value is trying to be set on a copy of a slice from a DataFrame.\n",
            "Try using .loc[row_indexer,col_indexer] = value instead\n",
            "\n",
            "See the caveats in the documentation: https://pandas.pydata.org/pandas-docs/stable/user_guide/indexing.html#returning-a-view-versus-a-copy\n",
            "  me['reference_date']+=\"-06-01\"\n",
            "<ipython-input-7-acd63386657f>:6: SettingWithCopyWarning: \n",
            "A value is trying to be set on a copy of a slice from a DataFrame.\n",
            "Try using .loc[row_indexer,col_indexer] = value instead\n",
            "\n",
            "See the caveats in the documentation: https://pandas.pydata.org/pandas-docs/stable/user_guide/indexing.html#returning-a-view-versus-a-copy\n",
            "  me['reference_date']=pd.to_datetime(me['reference_date'])\n"
          ]
        }
      ]
    },
    {
      "cell_type": "code",
      "source": [
        "crsp.to_csv(filepath+ \"crsp_compustat_clean.csv\")"
      ],
      "metadata": {
        "id": "B7yuCQes9CWL"
      },
      "execution_count": null,
      "outputs": []
    },
    {
      "cell_type": "markdown",
      "source": [
        "Filter the Sample Accordingly"
      ],
      "metadata": {
        "id": "j6Cqa_e5-d5F"
      }
    },
    {
      "cell_type": "code",
      "source": [
        "filepath=\"/content/gdrive/MyDrive/B_M/\"\n",
        "\n",
        "crsp=pd.read_csv(filepath +\"crsp_compustat_clean.csv\" )"
      ],
      "metadata": {
        "id": "BugHfH00-jY8"
      },
      "execution_count": null,
      "outputs": []
    },
    {
      "cell_type": "code",
      "source": [
        "#Filter 2: Non-Missing Values for book value and market equity\n",
        "# Drop missing values of market equity\n",
        "crsp.dropna(subset=['market_equity'], inplace=True)\n",
        "\n",
        "# Drop rows where both ceq and book_value are missing\n",
        "crsp.dropna(subset=['ceq', 'book_value'], how='all', inplace=True)\n",
        "\n",
        "#Filter 1: Non-Missing Values for current month returns and returns for the prior\n",
        "#1 year period\n",
        "'''\n",
        "columns=[]\n",
        "for x in range(1,13):\n",
        "  label=f\"return_t-{x}\"\n",
        "  columns.append(label)\n",
        "  crsp[f'return_t-{x}']=crsp.groupby('permno')['ret_adj'].shift(x)\n",
        "\n",
        "crsp.dropna(subset=columns, inplace=True)\n",
        "\n",
        "crsp.dropna(subset=['ret_adj'], inplace=True)\n",
        "\n",
        "#Filter 2: Non-Missing Values for book value and market equity\n",
        "crsp.dropna(subset=['book_value', 'market_equity', 'ceq'], inplace=True)\n",
        "'''\n",
        "\n"
      ],
      "metadata": {
        "colab": {
          "base_uri": "https://localhost:8080/",
          "height": 122
        },
        "id": "3YchUzYf-lAW",
        "outputId": "b36a43f1-8ab5-4a7d-82da-53b6ada25e40"
      },
      "execution_count": null,
      "outputs": [
        {
          "output_type": "execute_result",
          "data": {
            "text/plain": [
              "'\\ncolumns=[]\\nfor x in range(1,13):\\n  label=f\"return_t-{x}\"\\n  columns.append(label)\\n  crsp[f\\'return_t-{x}\\']=crsp.groupby(\\'permno\\')[\\'ret_adj\\'].shift(x)\\n\\ncrsp.dropna(subset=columns, inplace=True)\\n\\ncrsp.dropna(subset=[\\'ret_adj\\'], inplace=True)\\n\\n#Filter 2: Non-Missing Values for book value and market equity\\ncrsp.dropna(subset=[\\'book_value\\', \\'market_equity\\', \\'ceq\\'], inplace=True)\\n'"
            ],
            "application/vnd.google.colaboratory.intrinsic+json": {
              "type": "string"
            }
          },
          "metadata": {},
          "execution_count": 10
        }
      ]
    },
    {
      "cell_type": "code",
      "source": [
        "#construct components of book value\n",
        "\n",
        "#CEQ=Contributed Capital + Retained Earnings + Other\n",
        "\n",
        "#Contributed Capital= CSTK + CAPS + TSTK\n",
        "crsp['tstk'].fillna(0, inplace=True)\n",
        "crsp['cc']=crsp['cstk']+crsp['caps']-crsp['tstk']\n",
        "#Retained Earnings= RE\n",
        "#Other=ACOMINC\n",
        "crsp['cc'] = crsp['cc'].clip(lower=-15000)\n",
        "\n",
        "#Construct Book Value Componenents Scaled by Market Equity\n",
        "crsp['book_to_market']=crsp['book_value']/crsp['market_equity']\n",
        "crsp['reported_book_to_market']=crsp['ceq']/crsp['market_equity']\n",
        "crsp['contributed_capital_to_market']=crsp['cc']/crsp['market_equity']\n",
        "crsp['retained_earnings_to_market']=crsp['re']/crsp['market_equity']\n",
        "crsp['other_book_to_market']=crsp['acominc']/crsp['market_equity']\n",
        "\n",
        "#Construct Book Value Components Scaled by Book Value of Equity\n",
        "crsp['re/b']=crsp['re']/crsp['ceq']\n",
        "crsp['cc/b']=crsp['cc']/crsp['ceq']\n",
        "crsp['other/b']=crsp['acominc']/crsp['ceq']"
      ],
      "metadata": {
        "id": "vLi2gULq-orx"
      },
      "execution_count": null,
      "outputs": []
    },
    {
      "cell_type": "code",
      "source": [
        "crsp.to_csv(filepath+ \"crsp_bv.csv\")"
      ],
      "metadata": {
        "id": "tppVK6ZX-rja"
      },
      "execution_count": null,
      "outputs": []
    },
    {
      "cell_type": "markdown",
      "source": [
        "#Table 1 Panel A"
      ],
      "metadata": {
        "id": "eco_TCP0-ue6"
      }
    },
    {
      "cell_type": "code",
      "source": [
        "crsp=crsp[(\"1964-07-01\"<=crsp['date']) & (crsp['date']< \"2018-01-01\")]"
      ],
      "metadata": {
        "id": "2vD25OJuHbzX"
      },
      "execution_count": null,
      "outputs": []
    },
    {
      "cell_type": "code",
      "source": [
        "\n",
        "#Construct dataframe\n",
        "df = pd.DataFrame(columns=['Ratio', 'Mean', 'std_dev', 'Pct < 0', '10th', '25th', '50th', '75th', '90th'])\n",
        "\n",
        "for x, label in zip(['book_to_market', 'reported_book_to_market',  'retained_earnings_to_market','contributed_capital_to_market', 'other_book_to_market'], ['Book-to-market', 'Reported book-to-market', 'Retained earnings-to-market', 'Contributed capital-to-market', 'Other book-to-market']):\n",
        "  mean=crsp[x].mean()\n",
        "  std_dev=crsp[x].std()\n",
        "\n",
        "  #calculate percentage of values <0\n",
        "  num_neg_values = (crsp[x] < 0).sum()\n",
        "  percent_neg_values = num_neg_values /len(crsp) * 100\n",
        "  \n",
        "  quantiles = [0.1, 0.25, 0.5, 0.75, 0.9]\n",
        "  results = crsp[x].quantile(quantiles)\n",
        "\n",
        "  new_row = {'Ratio': label, 'Mean': mean, 'std_dev':std_dev, 'Pct < 0': percent_neg_values, '10th': results.loc[0.1], '25th':results.loc[0.25], '50th': results.loc[0.5], '75th': results.loc[0.75], '90th': results.loc[0.9]}\n",
        "  df = df.append(new_row, ignore_index=True)\n",
        "\n",
        "df=df.round(2)\n",
        "df\n"
      ],
      "metadata": {
        "colab": {
          "base_uri": "https://localhost:8080/",
          "height": 496
        },
        "id": "R1tcgIPE-5CA",
        "outputId": "4dee0d2c-36fd-4c90-ea2e-5bc8870c6d69"
      },
      "execution_count": null,
      "outputs": [
        {
          "output_type": "stream",
          "name": "stderr",
          "text": [
            "<ipython-input-14-f020ab32978c>:16: FutureWarning: The frame.append method is deprecated and will be removed from pandas in a future version. Use pandas.concat instead.\n",
            "  df = df.append(new_row, ignore_index=True)\n",
            "<ipython-input-14-f020ab32978c>:16: FutureWarning: The frame.append method is deprecated and will be removed from pandas in a future version. Use pandas.concat instead.\n",
            "  df = df.append(new_row, ignore_index=True)\n",
            "<ipython-input-14-f020ab32978c>:16: FutureWarning: The frame.append method is deprecated and will be removed from pandas in a future version. Use pandas.concat instead.\n",
            "  df = df.append(new_row, ignore_index=True)\n",
            "<ipython-input-14-f020ab32978c>:16: FutureWarning: The frame.append method is deprecated and will be removed from pandas in a future version. Use pandas.concat instead.\n",
            "  df = df.append(new_row, ignore_index=True)\n",
            "<ipython-input-14-f020ab32978c>:16: FutureWarning: The frame.append method is deprecated and will be removed from pandas in a future version. Use pandas.concat instead.\n",
            "  df = df.append(new_row, ignore_index=True)\n"
          ]
        },
        {
          "output_type": "execute_result",
          "data": {
            "text/plain": [
              "                           Ratio  Mean  std_dev  Pct < 0  10th  25th  50th  \\\n",
              "0                 Book-to-market  0.83     3.64     2.96  0.15  0.33  0.63   \n",
              "1        Reported book-to-market  0.80     3.31     2.57  0.15  0.32  0.60   \n",
              "2    Retained earnings-to-market -0.13     5.09    28.04 -0.89 -0.06  0.21   \n",
              "3  Contributed capital-to-market  0.93     4.20     4.39  0.04  0.14  0.36   \n",
              "4           Other book-to-market -0.02     0.24    13.69 -0.05 -0.01  0.00   \n",
              "\n",
              "   75th  90th  \n",
              "0  1.10  1.79  \n",
              "1  1.04  1.71  \n",
              "2  0.52  0.98  \n",
              "3  0.81  1.82  \n",
              "4  0.00  0.01  "
            ],
            "text/html": [
              "\n",
              "  <div id=\"df-d58b63c9-779f-411c-a256-997269fd8c99\">\n",
              "    <div class=\"colab-df-container\">\n",
              "      <div>\n",
              "<style scoped>\n",
              "    .dataframe tbody tr th:only-of-type {\n",
              "        vertical-align: middle;\n",
              "    }\n",
              "\n",
              "    .dataframe tbody tr th {\n",
              "        vertical-align: top;\n",
              "    }\n",
              "\n",
              "    .dataframe thead th {\n",
              "        text-align: right;\n",
              "    }\n",
              "</style>\n",
              "<table border=\"1\" class=\"dataframe\">\n",
              "  <thead>\n",
              "    <tr style=\"text-align: right;\">\n",
              "      <th></th>\n",
              "      <th>Ratio</th>\n",
              "      <th>Mean</th>\n",
              "      <th>std_dev</th>\n",
              "      <th>Pct &lt; 0</th>\n",
              "      <th>10th</th>\n",
              "      <th>25th</th>\n",
              "      <th>50th</th>\n",
              "      <th>75th</th>\n",
              "      <th>90th</th>\n",
              "    </tr>\n",
              "  </thead>\n",
              "  <tbody>\n",
              "    <tr>\n",
              "      <th>0</th>\n",
              "      <td>Book-to-market</td>\n",
              "      <td>0.83</td>\n",
              "      <td>3.64</td>\n",
              "      <td>2.96</td>\n",
              "      <td>0.15</td>\n",
              "      <td>0.33</td>\n",
              "      <td>0.63</td>\n",
              "      <td>1.10</td>\n",
              "      <td>1.79</td>\n",
              "    </tr>\n",
              "    <tr>\n",
              "      <th>1</th>\n",
              "      <td>Reported book-to-market</td>\n",
              "      <td>0.80</td>\n",
              "      <td>3.31</td>\n",
              "      <td>2.57</td>\n",
              "      <td>0.15</td>\n",
              "      <td>0.32</td>\n",
              "      <td>0.60</td>\n",
              "      <td>1.04</td>\n",
              "      <td>1.71</td>\n",
              "    </tr>\n",
              "    <tr>\n",
              "      <th>2</th>\n",
              "      <td>Retained earnings-to-market</td>\n",
              "      <td>-0.13</td>\n",
              "      <td>5.09</td>\n",
              "      <td>28.04</td>\n",
              "      <td>-0.89</td>\n",
              "      <td>-0.06</td>\n",
              "      <td>0.21</td>\n",
              "      <td>0.52</td>\n",
              "      <td>0.98</td>\n",
              "    </tr>\n",
              "    <tr>\n",
              "      <th>3</th>\n",
              "      <td>Contributed capital-to-market</td>\n",
              "      <td>0.93</td>\n",
              "      <td>4.20</td>\n",
              "      <td>4.39</td>\n",
              "      <td>0.04</td>\n",
              "      <td>0.14</td>\n",
              "      <td>0.36</td>\n",
              "      <td>0.81</td>\n",
              "      <td>1.82</td>\n",
              "    </tr>\n",
              "    <tr>\n",
              "      <th>4</th>\n",
              "      <td>Other book-to-market</td>\n",
              "      <td>-0.02</td>\n",
              "      <td>0.24</td>\n",
              "      <td>13.69</td>\n",
              "      <td>-0.05</td>\n",
              "      <td>-0.01</td>\n",
              "      <td>0.00</td>\n",
              "      <td>0.00</td>\n",
              "      <td>0.01</td>\n",
              "    </tr>\n",
              "  </tbody>\n",
              "</table>\n",
              "</div>\n",
              "      <button class=\"colab-df-convert\" onclick=\"convertToInteractive('df-d58b63c9-779f-411c-a256-997269fd8c99')\"\n",
              "              title=\"Convert this dataframe to an interactive table.\"\n",
              "              style=\"display:none;\">\n",
              "        \n",
              "  <svg xmlns=\"http://www.w3.org/2000/svg\" height=\"24px\"viewBox=\"0 0 24 24\"\n",
              "       width=\"24px\">\n",
              "    <path d=\"M0 0h24v24H0V0z\" fill=\"none\"/>\n",
              "    <path d=\"M18.56 5.44l.94 2.06.94-2.06 2.06-.94-2.06-.94-.94-2.06-.94 2.06-2.06.94zm-11 1L8.5 8.5l.94-2.06 2.06-.94-2.06-.94L8.5 2.5l-.94 2.06-2.06.94zm10 10l.94 2.06.94-2.06 2.06-.94-2.06-.94-.94-2.06-.94 2.06-2.06.94z\"/><path d=\"M17.41 7.96l-1.37-1.37c-.4-.4-.92-.59-1.43-.59-.52 0-1.04.2-1.43.59L10.3 9.45l-7.72 7.72c-.78.78-.78 2.05 0 2.83L4 21.41c.39.39.9.59 1.41.59.51 0 1.02-.2 1.41-.59l7.78-7.78 2.81-2.81c.8-.78.8-2.07 0-2.86zM5.41 20L4 18.59l7.72-7.72 1.47 1.35L5.41 20z\"/>\n",
              "  </svg>\n",
              "      </button>\n",
              "      \n",
              "  <style>\n",
              "    .colab-df-container {\n",
              "      display:flex;\n",
              "      flex-wrap:wrap;\n",
              "      gap: 12px;\n",
              "    }\n",
              "\n",
              "    .colab-df-convert {\n",
              "      background-color: #E8F0FE;\n",
              "      border: none;\n",
              "      border-radius: 50%;\n",
              "      cursor: pointer;\n",
              "      display: none;\n",
              "      fill: #1967D2;\n",
              "      height: 32px;\n",
              "      padding: 0 0 0 0;\n",
              "      width: 32px;\n",
              "    }\n",
              "\n",
              "    .colab-df-convert:hover {\n",
              "      background-color: #E2EBFA;\n",
              "      box-shadow: 0px 1px 2px rgba(60, 64, 67, 0.3), 0px 1px 3px 1px rgba(60, 64, 67, 0.15);\n",
              "      fill: #174EA6;\n",
              "    }\n",
              "\n",
              "    [theme=dark] .colab-df-convert {\n",
              "      background-color: #3B4455;\n",
              "      fill: #D2E3FC;\n",
              "    }\n",
              "\n",
              "    [theme=dark] .colab-df-convert:hover {\n",
              "      background-color: #434B5C;\n",
              "      box-shadow: 0px 1px 3px 1px rgba(0, 0, 0, 0.15);\n",
              "      filter: drop-shadow(0px 1px 2px rgba(0, 0, 0, 0.3));\n",
              "      fill: #FFFFFF;\n",
              "    }\n",
              "  </style>\n",
              "\n",
              "      <script>\n",
              "        const buttonEl =\n",
              "          document.querySelector('#df-d58b63c9-779f-411c-a256-997269fd8c99 button.colab-df-convert');\n",
              "        buttonEl.style.display =\n",
              "          google.colab.kernel.accessAllowed ? 'block' : 'none';\n",
              "\n",
              "        async function convertToInteractive(key) {\n",
              "          const element = document.querySelector('#df-d58b63c9-779f-411c-a256-997269fd8c99');\n",
              "          const dataTable =\n",
              "            await google.colab.kernel.invokeFunction('convertToInteractive',\n",
              "                                                     [key], {});\n",
              "          if (!dataTable) return;\n",
              "\n",
              "          const docLinkHtml = 'Like what you see? Visit the ' +\n",
              "            '<a target=\"_blank\" href=https://colab.research.google.com/notebooks/data_table.ipynb>data table notebook</a>'\n",
              "            + ' to learn more about interactive tables.';\n",
              "          element.innerHTML = '';\n",
              "          dataTable['output_type'] = 'display_data';\n",
              "          await google.colab.output.renderOutput(dataTable, element);\n",
              "          const docLink = document.createElement('div');\n",
              "          docLink.innerHTML = docLinkHtml;\n",
              "          element.appendChild(docLink);\n",
              "        }\n",
              "      </script>\n",
              "    </div>\n",
              "  </div>\n",
              "  "
            ]
          },
          "metadata": {},
          "execution_count": 14
        }
      ]
    },
    {
      "cell_type": "markdown",
      "source": [
        "Now we edit the sample to exclude firms where book value of equity is negative, and any of the componenents are not between -100% and 200% of the book value of equity."
      ],
      "metadata": {
        "id": "9YwdIxcAFjnu"
      }
    },
    {
      "cell_type": "code",
      "source": [
        "crsp=crsp[crsp['book_value']>0]\n",
        "# Define the lower and upper bounds\n",
        "ceq = crsp['ceq']\n",
        "lower_lim = -1 * ceq\n",
        "upper_lim = 2* ceq\n",
        "\n",
        "# Filter the DataFrame\n",
        "crsp_filtered = crsp[((crsp['cc'].isna()) | ((crsp['cc'] >= lower_lim) & (crsp['cc'] <= upper_lim))) &\n",
        "                     ((crsp['re'].isna()) | ((crsp['re'] >= lower_lim) & (crsp['re'] <= upper_lim))) &\n",
        "                     ((crsp['acominc'].isna()) | ((crsp['acominc'] >= lower_lim) & (crsp['acominc'] <= upper_lim)))]\n",
        "\n",
        "crsp=crsp_filtered\n"
      ],
      "metadata": {
        "id": "BE5Mb-nYFSn2"
      },
      "execution_count": null,
      "outputs": []
    },
    {
      "cell_type": "code",
      "source": [
        "df = pd.DataFrame(columns=['Ratio', 'Mean', 'std_dev', 'Pct < 0', '10th', '25th', '50th', '75th', '90th'])\n",
        "\n",
        "for x, label in zip(['re/b', 'cc/b',  'other/b'], ['Retained Earnings(R/E)', 'Contributed Capital (CC)', 'Other(AOCI)']):\n",
        "  mean=crsp[x].mean()\n",
        "  std_dev=crsp[x].std()\n",
        "\n",
        "  #calculate percentage of values <0\n",
        "  num_neg_values = (crsp[x] < 0).sum()\n",
        "  percent_neg_values = num_neg_values /len(crsp) *100\n",
        "  \n",
        "  quantiles = [0.1, 0.25, 0.5, 0.75, 0.9]\n",
        "  results = crsp[x].quantile(quantiles)\n",
        "\n",
        "  new_row = {'Ratio': label, 'Mean': mean, 'std_dev':std_dev, 'Pct < 0': percent_neg_values, '10th': results.loc[0.1], '25th':results.loc[0.25], '50th': results.loc[0.5], '75th': results.loc[0.75], '90th': results.loc[0.9]}\n",
        "  df = df.append(new_row, ignore_index=True)\n",
        "\n",
        "df=df.round(2)\n",
        "df"
      ],
      "metadata": {
        "colab": {
          "base_uri": "https://localhost:8080/",
          "height": 312
        },
        "id": "qu2JXiVrFtXI",
        "outputId": "62209ecd-8b10-4a6c-cc25-fd80f1be33fc"
      },
      "execution_count": null,
      "outputs": [
        {
          "output_type": "stream",
          "name": "stderr",
          "text": [
            "<ipython-input-16-570d679462d8>:15: FutureWarning: The frame.append method is deprecated and will be removed from pandas in a future version. Use pandas.concat instead.\n",
            "  df = df.append(new_row, ignore_index=True)\n",
            "<ipython-input-16-570d679462d8>:15: FutureWarning: The frame.append method is deprecated and will be removed from pandas in a future version. Use pandas.concat instead.\n",
            "  df = df.append(new_row, ignore_index=True)\n",
            "<ipython-input-16-570d679462d8>:15: FutureWarning: The frame.append method is deprecated and will be removed from pandas in a future version. Use pandas.concat instead.\n",
            "  df = df.append(new_row, ignore_index=True)\n"
          ]
        },
        {
          "output_type": "execute_result",
          "data": {
            "text/plain": [
              "                      Ratio  Mean  std_dev  Pct < 0  10th  25th  50th  75th  \\\n",
              "0    Retained Earnings(R/E)  0.45     0.46    14.81 -0.19  0.21  0.52  0.77   \n",
              "1  Contributed Capital (CC)  0.55     0.46     4.32  0.08  0.23  0.48  0.79   \n",
              "2               Other(AOCI) -0.02     0.10    12.40 -0.09 -0.02 -0.00  0.00   \n",
              "\n",
              "   90th  \n",
              "0  0.92  \n",
              "1  1.19  \n",
              "2  0.02  "
            ],
            "text/html": [
              "\n",
              "  <div id=\"df-09d57557-c947-487a-92c5-6d8ab999b465\">\n",
              "    <div class=\"colab-df-container\">\n",
              "      <div>\n",
              "<style scoped>\n",
              "    .dataframe tbody tr th:only-of-type {\n",
              "        vertical-align: middle;\n",
              "    }\n",
              "\n",
              "    .dataframe tbody tr th {\n",
              "        vertical-align: top;\n",
              "    }\n",
              "\n",
              "    .dataframe thead th {\n",
              "        text-align: right;\n",
              "    }\n",
              "</style>\n",
              "<table border=\"1\" class=\"dataframe\">\n",
              "  <thead>\n",
              "    <tr style=\"text-align: right;\">\n",
              "      <th></th>\n",
              "      <th>Ratio</th>\n",
              "      <th>Mean</th>\n",
              "      <th>std_dev</th>\n",
              "      <th>Pct &lt; 0</th>\n",
              "      <th>10th</th>\n",
              "      <th>25th</th>\n",
              "      <th>50th</th>\n",
              "      <th>75th</th>\n",
              "      <th>90th</th>\n",
              "    </tr>\n",
              "  </thead>\n",
              "  <tbody>\n",
              "    <tr>\n",
              "      <th>0</th>\n",
              "      <td>Retained Earnings(R/E)</td>\n",
              "      <td>0.45</td>\n",
              "      <td>0.46</td>\n",
              "      <td>14.81</td>\n",
              "      <td>-0.19</td>\n",
              "      <td>0.21</td>\n",
              "      <td>0.52</td>\n",
              "      <td>0.77</td>\n",
              "      <td>0.92</td>\n",
              "    </tr>\n",
              "    <tr>\n",
              "      <th>1</th>\n",
              "      <td>Contributed Capital (CC)</td>\n",
              "      <td>0.55</td>\n",
              "      <td>0.46</td>\n",
              "      <td>4.32</td>\n",
              "      <td>0.08</td>\n",
              "      <td>0.23</td>\n",
              "      <td>0.48</td>\n",
              "      <td>0.79</td>\n",
              "      <td>1.19</td>\n",
              "    </tr>\n",
              "    <tr>\n",
              "      <th>2</th>\n",
              "      <td>Other(AOCI)</td>\n",
              "      <td>-0.02</td>\n",
              "      <td>0.10</td>\n",
              "      <td>12.40</td>\n",
              "      <td>-0.09</td>\n",
              "      <td>-0.02</td>\n",
              "      <td>-0.00</td>\n",
              "      <td>0.00</td>\n",
              "      <td>0.02</td>\n",
              "    </tr>\n",
              "  </tbody>\n",
              "</table>\n",
              "</div>\n",
              "      <button class=\"colab-df-convert\" onclick=\"convertToInteractive('df-09d57557-c947-487a-92c5-6d8ab999b465')\"\n",
              "              title=\"Convert this dataframe to an interactive table.\"\n",
              "              style=\"display:none;\">\n",
              "        \n",
              "  <svg xmlns=\"http://www.w3.org/2000/svg\" height=\"24px\"viewBox=\"0 0 24 24\"\n",
              "       width=\"24px\">\n",
              "    <path d=\"M0 0h24v24H0V0z\" fill=\"none\"/>\n",
              "    <path d=\"M18.56 5.44l.94 2.06.94-2.06 2.06-.94-2.06-.94-.94-2.06-.94 2.06-2.06.94zm-11 1L8.5 8.5l.94-2.06 2.06-.94-2.06-.94L8.5 2.5l-.94 2.06-2.06.94zm10 10l.94 2.06.94-2.06 2.06-.94-2.06-.94-.94-2.06-.94 2.06-2.06.94z\"/><path d=\"M17.41 7.96l-1.37-1.37c-.4-.4-.92-.59-1.43-.59-.52 0-1.04.2-1.43.59L10.3 9.45l-7.72 7.72c-.78.78-.78 2.05 0 2.83L4 21.41c.39.39.9.59 1.41.59.51 0 1.02-.2 1.41-.59l7.78-7.78 2.81-2.81c.8-.78.8-2.07 0-2.86zM5.41 20L4 18.59l7.72-7.72 1.47 1.35L5.41 20z\"/>\n",
              "  </svg>\n",
              "      </button>\n",
              "      \n",
              "  <style>\n",
              "    .colab-df-container {\n",
              "      display:flex;\n",
              "      flex-wrap:wrap;\n",
              "      gap: 12px;\n",
              "    }\n",
              "\n",
              "    .colab-df-convert {\n",
              "      background-color: #E8F0FE;\n",
              "      border: none;\n",
              "      border-radius: 50%;\n",
              "      cursor: pointer;\n",
              "      display: none;\n",
              "      fill: #1967D2;\n",
              "      height: 32px;\n",
              "      padding: 0 0 0 0;\n",
              "      width: 32px;\n",
              "    }\n",
              "\n",
              "    .colab-df-convert:hover {\n",
              "      background-color: #E2EBFA;\n",
              "      box-shadow: 0px 1px 2px rgba(60, 64, 67, 0.3), 0px 1px 3px 1px rgba(60, 64, 67, 0.15);\n",
              "      fill: #174EA6;\n",
              "    }\n",
              "\n",
              "    [theme=dark] .colab-df-convert {\n",
              "      background-color: #3B4455;\n",
              "      fill: #D2E3FC;\n",
              "    }\n",
              "\n",
              "    [theme=dark] .colab-df-convert:hover {\n",
              "      background-color: #434B5C;\n",
              "      box-shadow: 0px 1px 3px 1px rgba(0, 0, 0, 0.15);\n",
              "      filter: drop-shadow(0px 1px 2px rgba(0, 0, 0, 0.3));\n",
              "      fill: #FFFFFF;\n",
              "    }\n",
              "  </style>\n",
              "\n",
              "      <script>\n",
              "        const buttonEl =\n",
              "          document.querySelector('#df-09d57557-c947-487a-92c5-6d8ab999b465 button.colab-df-convert');\n",
              "        buttonEl.style.display =\n",
              "          google.colab.kernel.accessAllowed ? 'block' : 'none';\n",
              "\n",
              "        async function convertToInteractive(key) {\n",
              "          const element = document.querySelector('#df-09d57557-c947-487a-92c5-6d8ab999b465');\n",
              "          const dataTable =\n",
              "            await google.colab.kernel.invokeFunction('convertToInteractive',\n",
              "                                                     [key], {});\n",
              "          if (!dataTable) return;\n",
              "\n",
              "          const docLinkHtml = 'Like what you see? Visit the ' +\n",
              "            '<a target=\"_blank\" href=https://colab.research.google.com/notebooks/data_table.ipynb>data table notebook</a>'\n",
              "            + ' to learn more about interactive tables.';\n",
              "          element.innerHTML = '';\n",
              "          dataTable['output_type'] = 'display_data';\n",
              "          await google.colab.output.renderOutput(dataTable, element);\n",
              "          const docLink = document.createElement('div');\n",
              "          docLink.innerHTML = docLinkHtml;\n",
              "          element.appendChild(docLink);\n",
              "        }\n",
              "      </script>\n",
              "    </div>\n",
              "  </div>\n",
              "  "
            ]
          },
          "metadata": {},
          "execution_count": 16
        }
      ]
    },
    {
      "cell_type": "markdown",
      "source": [
        "# Table 1 Panel B"
      ],
      "metadata": {
        "id": "6mANtYM3HIvc"
      }
    },
    {
      "cell_type": "code",
      "source": [
        "crsp=pd.read_csv(filepath + \"crsp_bv.csv\" )\n",
        "crsp['date']=pd.to_datetime(crsp['date'])\n",
        "crsp=crsp[crsp['book_value']>0]\n",
        "# Define the lower and upper bounds\n",
        "ceq = crsp['ceq']\n",
        "lower_lim = -1 * ceq\n",
        "upper_lim = 2* ceq\n",
        "\n",
        "# Filter the DataFrame\n",
        "crsp_filtered = crsp[((crsp['cc'].isna()) | ((crsp['cc'] >= lower_lim) & (crsp['cc'] <= upper_lim))) &\n",
        "                     ((crsp['re'].isna()) | ((crsp['re'] >= lower_lim) & (crsp['re'] <= upper_lim))) &\n",
        "                     ((crsp['acominc'].isna()) | ((crsp['acominc'] >= lower_lim) & (crsp['acominc'] <= upper_lim)))]\n",
        "\n",
        "crsp=crsp_filtered\n"
      ],
      "metadata": {
        "id": "qUI1X8S4GdBf"
      },
      "execution_count": null,
      "outputs": []
    },
    {
      "cell_type": "code",
      "source": [
        "crsp"
      ],
      "metadata": {
        "id": "a6wYt12ZIzOc"
      },
      "execution_count": null,
      "outputs": []
    },
    {
      "cell_type": "markdown",
      "source": [
        "Fama French Size Sort"
      ],
      "metadata": {
        "id": "G8cqqqJwIsZJ"
      }
    },
    {
      "cell_type": "code",
      "source": [
        "crsp['date']=pd.to_datetime(crsp['date'])\n",
        "sb=crsp[(crsp['date'].dt.month==6) & (crsp['exchange']==\"NYSE\")]\n",
        "sb.to_sql('sb', conn, if_exists='replace')\n",
        "\n",
        "query='''\n",
        "        SELECT DISTINCT permno, reference_date, mkt_cap as ff_mkt_equity\n",
        "        FROM sb\n",
        "        '''\n",
        "\n",
        "sb=pd.read_sql(query, conn)\n",
        "\n",
        "#get median market equity for nyse\n",
        "sb['median_mkt_cap'] = sb.groupby('reference_date')['ff_mkt_equity'].transform('median')\n",
        "\n",
        "sb.to_sql('sb', conn, if_exists='replace')\n",
        "\n",
        "query='''\n",
        "        SELECT DISTINCT reference_date, median_mkt_cap\n",
        "        FROM SB\n",
        "        '''\n",
        "sb=pd.read_sql(query, conn)\n",
        "\n",
        "crsp.to_sql('crsp', conn, if_exists='replace')\n",
        "sb.to_sql('sb', conn, if_exists='replace')\n",
        "\n",
        "query='''\n",
        "        SELECT DISTINCT crsp.*, sb.median_mkt_cap\n",
        "        FROM crsp\n",
        "        LEFT JOIN sb\n",
        "        ON crsp.reference_date=sb.reference_date\n",
        "        '''\n",
        "crsp_sb=pd.read_sql(query, conn)\n",
        "crsp=crsp_sb\n",
        "crsp.dropna(subset=['median_mkt_cap'], inplace=True)\n",
        "\n",
        "crsp['size_portfolio']=np.where(crsp['market_equity']>crsp['median_mkt_cap'], \"B\", \"S\")"
      ],
      "metadata": {
        "colab": {
          "base_uri": "https://localhost:8080/"
        },
        "id": "ThTAcse7ItwZ",
        "outputId": "a14d51ce-04ac-4e43-f3ef-08e9550e73ee"
      },
      "execution_count": null,
      "outputs": [
        {
          "output_type": "stream",
          "name": "stderr",
          "text": [
            "/usr/local/lib/python3.8/dist-packages/pandas/core/generic.py:2872: UserWarning: The spaces in these column names will not be changed. In pandas versions < 0.14, spaces were converted to underscores.\n",
            "  sql.to_sql(\n"
          ]
        }
      ]
    },
    {
      "cell_type": "code",
      "source": [
        "crsp"
      ],
      "metadata": {
        "id": "5fCF-OroJpnu"
      },
      "execution_count": null,
      "outputs": []
    },
    {
      "cell_type": "markdown",
      "source": [
        "Fama French B/M Sort"
      ],
      "metadata": {
        "id": "3WIinRVpJOIt"
      }
    },
    {
      "cell_type": "code",
      "source": [
        "crsp['date']=pd.to_datetime(crsp['date'])\n",
        "bb=crsp[crsp['exchange']==\"NYSE\"]\n",
        "bb.drop('level_0', axis=1, inplace=True)\n",
        "bb.to_sql('bb', conn, if_exists='replace')\n",
        "\n",
        "query='''\n",
        "        SELECT DISTINCT permno, reference_date, book_to_market\n",
        "        FROM bb\n",
        "        '''\n",
        "\n",
        "bb=pd.read_sql(query, conn)\n",
        "\n",
        "\n",
        "bb['bv_30'] = bb.groupby('reference_date')['book_to_market'].transform(lambda x: x.quantile(0.3))\n",
        "bb['bv_70'] = bb.groupby('reference_date')['book_to_market'].transform(lambda x: x.quantile(0.7))\n",
        "\n",
        "bb.to_sql('bb', conn, if_exists='replace')\n",
        "\n",
        "query='''\n",
        "        SELECT DISTINCT reference_date, bv_30, bv_70\n",
        "        FROM bb\n",
        "        '''\n",
        "bb=pd.read_sql(query, conn)\n",
        "\n",
        "crsp.drop(['level_0', 'Unnamed: 0', 'index'], axis=1, inplace=True)\n",
        "crsp.to_sql('crsp', conn, if_exists='replace')\n",
        "bb.to_sql('bb', conn, if_exists='replace')\n",
        "\n",
        "query='''\n",
        "        SELECT DISTINCT crsp.*, bb.bv_30, bb.bv_70\n",
        "        FROM crsp\n",
        "        LEFT JOIN bb\n",
        "        ON crsp.reference_date=bb.reference_date\n",
        "        '''\n",
        "crsp_bb=pd.read_sql(query, conn)\n",
        "\n",
        "crsp=crsp_bb\n",
        "\n",
        "crsp['b/m_portfolio'] = np.where(crsp['book_to_market'] < crsp['bv_30'], 'growth', \n",
        "                               np.where(crsp['book_to_market'] > crsp['bv_70'], 'value', 'neutral'))\n"
      ],
      "metadata": {
        "colab": {
          "base_uri": "https://localhost:8080/"
        },
        "id": "WW4P7-IHJNnL",
        "outputId": "5d4aa0f6-28cd-4d3f-842c-cd643c41f34e"
      },
      "execution_count": null,
      "outputs": [
        {
          "output_type": "stream",
          "name": "stderr",
          "text": [
            "/usr/local/lib/python3.8/dist-packages/pandas/core/frame.py:4906: SettingWithCopyWarning: \n",
            "A value is trying to be set on a copy of a slice from a DataFrame\n",
            "\n",
            "See the caveats in the documentation: https://pandas.pydata.org/pandas-docs/stable/user_guide/indexing.html#returning-a-view-versus-a-copy\n",
            "  return super().drop(\n",
            "/usr/local/lib/python3.8/dist-packages/pandas/core/generic.py:2872: UserWarning: The spaces in these column names will not be changed. In pandas versions < 0.14, spaces were converted to underscores.\n",
            "  sql.to_sql(\n"
          ]
        }
      ]
    },
    {
      "cell_type": "code",
      "source": [
        "crsp=crsp[(\"1964-07-01\"<=crsp['date']) & (crsp['date']< \"2018-01-01\")]"
      ],
      "metadata": {
        "id": "e1D1ay2wNTgr"
      },
      "execution_count": null,
      "outputs": []
    },
    {
      "cell_type": "code",
      "source": [
        "df = pd.DataFrame(columns=['Size', 'B/M', 'Mean', 'Median', 'PCT<0'])\n",
        "\n",
        "for x in [\"S\", \"B\"]:\n",
        "  for j in ['growth', 'neutral', 'value']:\n",
        "    crsp_temp=crsp[(crsp['size_portfolio']==x) & (crsp['b/m_portfolio']==j)]\n",
        "    mean=crsp_temp['re/b'].mean()\n",
        "    median=crsp_temp['re/b'].median()\n",
        "\n",
        "    #calculate percentage of values <0\n",
        "    num_neg_values = (crsp_temp['re/b'] < 0).sum()\n",
        "    percent_neg_values = num_neg_values /len(crsp_temp) * 100\n",
        "\n",
        "    new_row = {'Size': x, 'B/M': j, 'Mean': mean, 'Median': median, 'PCT<0':percent_neg_values}\n",
        "    df = df.append(new_row, ignore_index=True)\n",
        "\n",
        "re_be=df.round(2)\n",
        "re_be"
      ],
      "metadata": {
        "id": "QFqqzilLLCWy"
      },
      "execution_count": null,
      "outputs": []
    },
    {
      "cell_type": "code",
      "source": [
        "df = pd.DataFrame(columns=['Size', 'B/M', 'Mean', 'Median', 'PCT<0'])\n",
        "\n",
        "for x in [\"S\", \"B\"]:\n",
        "  for j in ['growth', 'neutral', 'value']:\n",
        "    crsp_temp=crsp[(crsp['size_portfolio']==x) & (crsp['b/m_portfolio']==j)]\n",
        "    mean=crsp_temp['cc/b'].mean()\n",
        "    median=crsp_temp['cc/b'].median()\n",
        "\n",
        "    #calculate percentage of values <0\n",
        "    num_neg_values = (crsp_temp['cc/b'] < 0).sum()\n",
        "    percent_neg_values = num_neg_values /len(crsp_temp) * 100\n",
        "\n",
        "    new_row = {'Size': x, 'B/M': j, 'Mean': mean, 'Median': median, 'PCT<0':percent_neg_values}\n",
        "    df = df.append(new_row, ignore_index=True)\n",
        "cc_be=df.round(2)"
      ],
      "metadata": {
        "id": "rGsAUr7PLHvg"
      },
      "execution_count": null,
      "outputs": []
    },
    {
      "cell_type": "code",
      "source": [
        "df = pd.DataFrame(columns=['Size', 'B/M', 'Mean', 'Median', 'PCT<0'])\n",
        "\n",
        "for x in [\"S\", \"B\"]:\n",
        "  for j in ['growth', 'neutral', 'value']:\n",
        "    crsp_temp=crsp[(crsp['size_portfolio']==x) & (crsp['b/m_portfolio']==j)]\n",
        "    mean=crsp_temp['other/b'].mean()\n",
        "    median=crsp_temp['other/b'].median()\n",
        "\n",
        "    #calculate percentage of values <0\n",
        "    num_neg_values = (crsp_temp['other/b'] < 0).sum()\n",
        "    percent_neg_values = num_neg_values /len(crsp_temp) * 100\n",
        "\n",
        "    new_row = {'Size': x, 'B/M': j, 'Mean': mean, 'Median': median, 'PCT<0':percent_neg_values}\n",
        "    df = df.append(new_row, ignore_index=True)\n",
        "aoci_be=df.round(2)\n",
        "aoci_be"
      ],
      "metadata": {
        "colab": {
          "base_uri": "https://localhost:8080/",
          "height": 238
        },
        "id": "tYdIACySMUNt",
        "outputId": "c203bfbe-8c23-4f53-82ec-2750c4e0441d"
      },
      "execution_count": null,
      "outputs": [
        {
          "output_type": "execute_result",
          "data": {
            "text/plain": [
              "  Size      B/M  Mean  Median  PCT<0\n",
              "0    S   growth -0.01    0.00   9.03\n",
              "1    S  neutral -0.02    0.00  11.77\n",
              "2    S    value -0.01    0.00  10.52\n",
              "3    B   growth -0.05   -0.00  18.78\n",
              "4    B  neutral -0.04   -0.01  17.33\n",
              "5    B    value -0.02   -0.01  18.74"
            ],
            "text/html": [
              "\n",
              "  <div id=\"df-547a9d55-b72a-43aa-8ccd-14d8385ccae2\">\n",
              "    <div class=\"colab-df-container\">\n",
              "      <div>\n",
              "<style scoped>\n",
              "    .dataframe tbody tr th:only-of-type {\n",
              "        vertical-align: middle;\n",
              "    }\n",
              "\n",
              "    .dataframe tbody tr th {\n",
              "        vertical-align: top;\n",
              "    }\n",
              "\n",
              "    .dataframe thead th {\n",
              "        text-align: right;\n",
              "    }\n",
              "</style>\n",
              "<table border=\"1\" class=\"dataframe\">\n",
              "  <thead>\n",
              "    <tr style=\"text-align: right;\">\n",
              "      <th></th>\n",
              "      <th>Size</th>\n",
              "      <th>B/M</th>\n",
              "      <th>Mean</th>\n",
              "      <th>Median</th>\n",
              "      <th>PCT&lt;0</th>\n",
              "    </tr>\n",
              "  </thead>\n",
              "  <tbody>\n",
              "    <tr>\n",
              "      <th>0</th>\n",
              "      <td>S</td>\n",
              "      <td>growth</td>\n",
              "      <td>-0.01</td>\n",
              "      <td>0.00</td>\n",
              "      <td>9.03</td>\n",
              "    </tr>\n",
              "    <tr>\n",
              "      <th>1</th>\n",
              "      <td>S</td>\n",
              "      <td>neutral</td>\n",
              "      <td>-0.02</td>\n",
              "      <td>0.00</td>\n",
              "      <td>11.77</td>\n",
              "    </tr>\n",
              "    <tr>\n",
              "      <th>2</th>\n",
              "      <td>S</td>\n",
              "      <td>value</td>\n",
              "      <td>-0.01</td>\n",
              "      <td>0.00</td>\n",
              "      <td>10.52</td>\n",
              "    </tr>\n",
              "    <tr>\n",
              "      <th>3</th>\n",
              "      <td>B</td>\n",
              "      <td>growth</td>\n",
              "      <td>-0.05</td>\n",
              "      <td>-0.00</td>\n",
              "      <td>18.78</td>\n",
              "    </tr>\n",
              "    <tr>\n",
              "      <th>4</th>\n",
              "      <td>B</td>\n",
              "      <td>neutral</td>\n",
              "      <td>-0.04</td>\n",
              "      <td>-0.01</td>\n",
              "      <td>17.33</td>\n",
              "    </tr>\n",
              "    <tr>\n",
              "      <th>5</th>\n",
              "      <td>B</td>\n",
              "      <td>value</td>\n",
              "      <td>-0.02</td>\n",
              "      <td>-0.01</td>\n",
              "      <td>18.74</td>\n",
              "    </tr>\n",
              "  </tbody>\n",
              "</table>\n",
              "</div>\n",
              "      <button class=\"colab-df-convert\" onclick=\"convertToInteractive('df-547a9d55-b72a-43aa-8ccd-14d8385ccae2')\"\n",
              "              title=\"Convert this dataframe to an interactive table.\"\n",
              "              style=\"display:none;\">\n",
              "        \n",
              "  <svg xmlns=\"http://www.w3.org/2000/svg\" height=\"24px\"viewBox=\"0 0 24 24\"\n",
              "       width=\"24px\">\n",
              "    <path d=\"M0 0h24v24H0V0z\" fill=\"none\"/>\n",
              "    <path d=\"M18.56 5.44l.94 2.06.94-2.06 2.06-.94-2.06-.94-.94-2.06-.94 2.06-2.06.94zm-11 1L8.5 8.5l.94-2.06 2.06-.94-2.06-.94L8.5 2.5l-.94 2.06-2.06.94zm10 10l.94 2.06.94-2.06 2.06-.94-2.06-.94-.94-2.06-.94 2.06-2.06.94z\"/><path d=\"M17.41 7.96l-1.37-1.37c-.4-.4-.92-.59-1.43-.59-.52 0-1.04.2-1.43.59L10.3 9.45l-7.72 7.72c-.78.78-.78 2.05 0 2.83L4 21.41c.39.39.9.59 1.41.59.51 0 1.02-.2 1.41-.59l7.78-7.78 2.81-2.81c.8-.78.8-2.07 0-2.86zM5.41 20L4 18.59l7.72-7.72 1.47 1.35L5.41 20z\"/>\n",
              "  </svg>\n",
              "      </button>\n",
              "      \n",
              "  <style>\n",
              "    .colab-df-container {\n",
              "      display:flex;\n",
              "      flex-wrap:wrap;\n",
              "      gap: 12px;\n",
              "    }\n",
              "\n",
              "    .colab-df-convert {\n",
              "      background-color: #E8F0FE;\n",
              "      border: none;\n",
              "      border-radius: 50%;\n",
              "      cursor: pointer;\n",
              "      display: none;\n",
              "      fill: #1967D2;\n",
              "      height: 32px;\n",
              "      padding: 0 0 0 0;\n",
              "      width: 32px;\n",
              "    }\n",
              "\n",
              "    .colab-df-convert:hover {\n",
              "      background-color: #E2EBFA;\n",
              "      box-shadow: 0px 1px 2px rgba(60, 64, 67, 0.3), 0px 1px 3px 1px rgba(60, 64, 67, 0.15);\n",
              "      fill: #174EA6;\n",
              "    }\n",
              "\n",
              "    [theme=dark] .colab-df-convert {\n",
              "      background-color: #3B4455;\n",
              "      fill: #D2E3FC;\n",
              "    }\n",
              "\n",
              "    [theme=dark] .colab-df-convert:hover {\n",
              "      background-color: #434B5C;\n",
              "      box-shadow: 0px 1px 3px 1px rgba(0, 0, 0, 0.15);\n",
              "      filter: drop-shadow(0px 1px 2px rgba(0, 0, 0, 0.3));\n",
              "      fill: #FFFFFF;\n",
              "    }\n",
              "  </style>\n",
              "\n",
              "      <script>\n",
              "        const buttonEl =\n",
              "          document.querySelector('#df-547a9d55-b72a-43aa-8ccd-14d8385ccae2 button.colab-df-convert');\n",
              "        buttonEl.style.display =\n",
              "          google.colab.kernel.accessAllowed ? 'block' : 'none';\n",
              "\n",
              "        async function convertToInteractive(key) {\n",
              "          const element = document.querySelector('#df-547a9d55-b72a-43aa-8ccd-14d8385ccae2');\n",
              "          const dataTable =\n",
              "            await google.colab.kernel.invokeFunction('convertToInteractive',\n",
              "                                                     [key], {});\n",
              "          if (!dataTable) return;\n",
              "\n",
              "          const docLinkHtml = 'Like what you see? Visit the ' +\n",
              "            '<a target=\"_blank\" href=https://colab.research.google.com/notebooks/data_table.ipynb>data table notebook</a>'\n",
              "            + ' to learn more about interactive tables.';\n",
              "          element.innerHTML = '';\n",
              "          dataTable['output_type'] = 'display_data';\n",
              "          await google.colab.output.renderOutput(dataTable, element);\n",
              "          const docLink = document.createElement('div');\n",
              "          docLink.innerHTML = docLinkHtml;\n",
              "          element.appendChild(docLink);\n",
              "        }\n",
              "      </script>\n",
              "    </div>\n",
              "  </div>\n",
              "  "
            ]
          },
          "metadata": {},
          "execution_count": 26
        }
      ]
    },
    {
      "cell_type": "markdown",
      "source": [
        "# Table 2 Fama McBeth Regressions"
      ],
      "metadata": {
        "id": "gx3A_KFOypJF"
      }
    },
    {
      "cell_type": "markdown",
      "source": [
        "First exclude microcaps from the sample, securities below the NYSE 20% Market Cap Quantile."
      ],
      "metadata": {
        "id": "ch2ZR8zVwlMW"
      }
    },
    {
      "cell_type": "code",
      "source": [
        "filepath=\"/content/gdrive/MyDrive/B_M/\"\n",
        "crsp=pd.read_csv(filepath + \"crsp_bv.csv\" )\n",
        "\n",
        "crsp['date']=pd.to_datetime(crsp['date'])\n",
        "sb=crsp[(crsp['date'].dt.month==6) & (crsp['exchange']==\"NYSE\")]\n",
        "sb.to_sql('sb', conn, if_exists='replace')\n",
        "\n",
        "query='''\n",
        "        SELECT DISTINCT permno, reference_date, mkt_cap as ff_mkt_equity\n",
        "        FROM sb\n",
        "        '''\n",
        "\n",
        "sb=pd.read_sql(query, conn)\n",
        "\n",
        "#get 20% quantile of market equity for NYSE\n",
        "sb['microcap_mkt_cap'] = sb.groupby('reference_date')['ff_mkt_equity'].transform(lambda x: x.quantile(0.2))\n",
        "\n",
        "sb.to_sql('sb', conn, if_exists='replace')\n",
        "\n",
        "query='''\n",
        "        SELECT DISTINCT reference_date, microcap_mkt_cap\n",
        "        FROM SB\n",
        "        '''\n",
        "sb=pd.read_sql(query, conn)\n",
        "\n",
        "crsp.to_sql('crsp', conn, if_exists='replace')\n",
        "sb.to_sql('sb', conn, if_exists='replace')\n",
        "\n",
        "query='''\n",
        "        SELECT DISTINCT crsp.*, sb.microcap_mkt_cap\n",
        "        FROM crsp\n",
        "        LEFT JOIN sb\n",
        "        ON crsp.reference_date=sb.reference_date\n",
        "        '''\n",
        "crsp_sb=pd.read_sql(query, conn)\n",
        "crsp=crsp_sb\n",
        "\n",
        "\n",
        "#Drop microcaps\n",
        "crsp = crsp[crsp['market_equity'] >= crsp['microcap_mkt_cap']]\n"
      ],
      "metadata": {
        "colab": {
          "base_uri": "https://localhost:8080/",
          "height": 471
        },
        "id": "pVlCsT3XwiYC",
        "outputId": "69add57b-4070-4798-b03c-94b7bc58a92d"
      },
      "execution_count": null,
      "outputs": [
        {
          "output_type": "stream",
          "name": "stderr",
          "text": [
            "/usr/local/lib/python3.9/dist-packages/pandas/core/generic.py:2872: UserWarning: The spaces in these column names will not be changed. In pandas versions < 0.14, spaces were converted to underscores.\n",
            "  sql.to_sql(\n"
          ]
        },
        {
          "output_type": "error",
          "ename": "KeyboardInterrupt",
          "evalue": "ignored",
          "traceback": [
            "\u001b[0;31m---------------------------------------------------------------------------\u001b[0m",
            "\u001b[0;31mKeyboardInterrupt\u001b[0m                         Traceback (most recent call last)",
            "\u001b[0;32m<ipython-input-2-40a97406c323>\u001b[0m in \u001b[0;36m<module>\u001b[0;34m\u001b[0m\n\u001b[1;32m      4\u001b[0m \u001b[0mcrsp\u001b[0m\u001b[0;34m[\u001b[0m\u001b[0;34m'date'\u001b[0m\u001b[0;34m]\u001b[0m\u001b[0;34m=\u001b[0m\u001b[0mpd\u001b[0m\u001b[0;34m.\u001b[0m\u001b[0mto_datetime\u001b[0m\u001b[0;34m(\u001b[0m\u001b[0mcrsp\u001b[0m\u001b[0;34m[\u001b[0m\u001b[0;34m'date'\u001b[0m\u001b[0;34m]\u001b[0m\u001b[0;34m)\u001b[0m\u001b[0;34m\u001b[0m\u001b[0;34m\u001b[0m\u001b[0m\n\u001b[1;32m      5\u001b[0m \u001b[0msb\u001b[0m\u001b[0;34m=\u001b[0m\u001b[0mcrsp\u001b[0m\u001b[0;34m[\u001b[0m\u001b[0;34m(\u001b[0m\u001b[0mcrsp\u001b[0m\u001b[0;34m[\u001b[0m\u001b[0;34m'date'\u001b[0m\u001b[0;34m]\u001b[0m\u001b[0;34m.\u001b[0m\u001b[0mdt\u001b[0m\u001b[0;34m.\u001b[0m\u001b[0mmonth\u001b[0m\u001b[0;34m==\u001b[0m\u001b[0;36m6\u001b[0m\u001b[0;34m)\u001b[0m \u001b[0;34m&\u001b[0m \u001b[0;34m(\u001b[0m\u001b[0mcrsp\u001b[0m\u001b[0;34m[\u001b[0m\u001b[0;34m'exchange'\u001b[0m\u001b[0;34m]\u001b[0m\u001b[0;34m==\u001b[0m\u001b[0;34m\"NYSE\"\u001b[0m\u001b[0;34m)\u001b[0m\u001b[0;34m]\u001b[0m\u001b[0;34m\u001b[0m\u001b[0;34m\u001b[0m\u001b[0m\n\u001b[0;32m----> 6\u001b[0;31m \u001b[0msb\u001b[0m\u001b[0;34m.\u001b[0m\u001b[0mto_sql\u001b[0m\u001b[0;34m(\u001b[0m\u001b[0;34m'sb'\u001b[0m\u001b[0;34m,\u001b[0m \u001b[0mconn\u001b[0m\u001b[0;34m,\u001b[0m \u001b[0mif_exists\u001b[0m\u001b[0;34m=\u001b[0m\u001b[0;34m'replace'\u001b[0m\u001b[0;34m)\u001b[0m\u001b[0;34m\u001b[0m\u001b[0;34m\u001b[0m\u001b[0m\n\u001b[0m\u001b[1;32m      7\u001b[0m \u001b[0;34m\u001b[0m\u001b[0m\n\u001b[1;32m      8\u001b[0m query='''\n",
            "\u001b[0;32m/usr/local/lib/python3.9/dist-packages/pandas/core/generic.py\u001b[0m in \u001b[0;36mto_sql\u001b[0;34m(self, name, con, schema, if_exists, index, index_label, chunksize, dtype, method)\u001b[0m\n\u001b[1;32m   2870\u001b[0m         \u001b[0;32mfrom\u001b[0m \u001b[0mpandas\u001b[0m\u001b[0;34m.\u001b[0m\u001b[0mio\u001b[0m \u001b[0;32mimport\u001b[0m \u001b[0msql\u001b[0m\u001b[0;34m\u001b[0m\u001b[0;34m\u001b[0m\u001b[0m\n\u001b[1;32m   2871\u001b[0m \u001b[0;34m\u001b[0m\u001b[0m\n\u001b[0;32m-> 2872\u001b[0;31m         sql.to_sql(\n\u001b[0m\u001b[1;32m   2873\u001b[0m             \u001b[0mself\u001b[0m\u001b[0;34m,\u001b[0m\u001b[0;34m\u001b[0m\u001b[0;34m\u001b[0m\u001b[0m\n\u001b[1;32m   2874\u001b[0m             \u001b[0mname\u001b[0m\u001b[0;34m,\u001b[0m\u001b[0;34m\u001b[0m\u001b[0;34m\u001b[0m\u001b[0m\n",
            "\u001b[0;32m/usr/local/lib/python3.9/dist-packages/pandas/io/sql.py\u001b[0m in \u001b[0;36mto_sql\u001b[0;34m(frame, name, con, schema, if_exists, index, index_label, chunksize, dtype, method, engine, **engine_kwargs)\u001b[0m\n\u001b[1;32m    715\u001b[0m         )\n\u001b[1;32m    716\u001b[0m \u001b[0;34m\u001b[0m\u001b[0m\n\u001b[0;32m--> 717\u001b[0;31m     pandas_sql.to_sql(\n\u001b[0m\u001b[1;32m    718\u001b[0m         \u001b[0mframe\u001b[0m\u001b[0;34m,\u001b[0m\u001b[0;34m\u001b[0m\u001b[0;34m\u001b[0m\u001b[0m\n\u001b[1;32m    719\u001b[0m         \u001b[0mname\u001b[0m\u001b[0;34m,\u001b[0m\u001b[0;34m\u001b[0m\u001b[0;34m\u001b[0m\u001b[0m\n",
            "\u001b[0;32m/usr/local/lib/python3.9/dist-packages/pandas/io/sql.py\u001b[0m in \u001b[0;36mto_sql\u001b[0;34m(self, frame, name, if_exists, index, index_label, schema, chunksize, dtype, method, **kwargs)\u001b[0m\n\u001b[1;32m   2224\u001b[0m         )\n\u001b[1;32m   2225\u001b[0m         \u001b[0mtable\u001b[0m\u001b[0;34m.\u001b[0m\u001b[0mcreate\u001b[0m\u001b[0;34m(\u001b[0m\u001b[0;34m)\u001b[0m\u001b[0;34m\u001b[0m\u001b[0;34m\u001b[0m\u001b[0m\n\u001b[0;32m-> 2226\u001b[0;31m         \u001b[0mtable\u001b[0m\u001b[0;34m.\u001b[0m\u001b[0minsert\u001b[0m\u001b[0;34m(\u001b[0m\u001b[0mchunksize\u001b[0m\u001b[0;34m,\u001b[0m \u001b[0mmethod\u001b[0m\u001b[0;34m)\u001b[0m\u001b[0;34m\u001b[0m\u001b[0;34m\u001b[0m\u001b[0m\n\u001b[0m\u001b[1;32m   2227\u001b[0m \u001b[0;34m\u001b[0m\u001b[0m\n\u001b[1;32m   2228\u001b[0m     \u001b[0;32mdef\u001b[0m \u001b[0mhas_table\u001b[0m\u001b[0;34m(\u001b[0m\u001b[0mself\u001b[0m\u001b[0;34m,\u001b[0m \u001b[0mname\u001b[0m\u001b[0;34m:\u001b[0m \u001b[0mstr\u001b[0m\u001b[0;34m,\u001b[0m \u001b[0mschema\u001b[0m\u001b[0;34m:\u001b[0m \u001b[0mstr\u001b[0m \u001b[0;34m|\u001b[0m \u001b[0;32mNone\u001b[0m \u001b[0;34m=\u001b[0m \u001b[0;32mNone\u001b[0m\u001b[0;34m)\u001b[0m\u001b[0;34m:\u001b[0m\u001b[0;34m\u001b[0m\u001b[0;34m\u001b[0m\u001b[0m\n",
            "\u001b[0;32m/usr/local/lib/python3.9/dist-packages/pandas/io/sql.py\u001b[0m in \u001b[0;36minsert\u001b[0;34m(self, chunksize, method)\u001b[0m\n\u001b[1;32m    965\u001b[0m \u001b[0;34m\u001b[0m\u001b[0m\n\u001b[1;32m    966\u001b[0m                 \u001b[0mchunk_iter\u001b[0m \u001b[0;34m=\u001b[0m \u001b[0mzip\u001b[0m\u001b[0;34m(\u001b[0m\u001b[0;34m*\u001b[0m\u001b[0;34m[\u001b[0m\u001b[0marr\u001b[0m\u001b[0;34m[\u001b[0m\u001b[0mstart_i\u001b[0m\u001b[0;34m:\u001b[0m\u001b[0mend_i\u001b[0m\u001b[0;34m]\u001b[0m \u001b[0;32mfor\u001b[0m \u001b[0marr\u001b[0m \u001b[0;32min\u001b[0m \u001b[0mdata_list\u001b[0m\u001b[0;34m]\u001b[0m\u001b[0;34m)\u001b[0m\u001b[0;34m\u001b[0m\u001b[0;34m\u001b[0m\u001b[0m\n\u001b[0;32m--> 967\u001b[0;31m                 \u001b[0mexec_insert\u001b[0m\u001b[0;34m(\u001b[0m\u001b[0mconn\u001b[0m\u001b[0;34m,\u001b[0m \u001b[0mkeys\u001b[0m\u001b[0;34m,\u001b[0m \u001b[0mchunk_iter\u001b[0m\u001b[0;34m)\u001b[0m\u001b[0;34m\u001b[0m\u001b[0;34m\u001b[0m\u001b[0m\n\u001b[0m\u001b[1;32m    968\u001b[0m \u001b[0;34m\u001b[0m\u001b[0m\n\u001b[1;32m    969\u001b[0m     def _query_iterator(\n",
            "\u001b[0;32m/usr/local/lib/python3.9/dist-packages/pandas/io/sql.py\u001b[0m in \u001b[0;36m_execute_insert\u001b[0;34m(self, conn, keys, data_iter)\u001b[0m\n\u001b[1;32m   1922\u001b[0m     \u001b[0;32mdef\u001b[0m \u001b[0m_execute_insert\u001b[0m\u001b[0;34m(\u001b[0m\u001b[0mself\u001b[0m\u001b[0;34m,\u001b[0m \u001b[0mconn\u001b[0m\u001b[0;34m,\u001b[0m \u001b[0mkeys\u001b[0m\u001b[0;34m,\u001b[0m \u001b[0mdata_iter\u001b[0m\u001b[0;34m)\u001b[0m\u001b[0;34m:\u001b[0m\u001b[0;34m\u001b[0m\u001b[0;34m\u001b[0m\u001b[0m\n\u001b[1;32m   1923\u001b[0m         \u001b[0mdata_list\u001b[0m \u001b[0;34m=\u001b[0m \u001b[0mlist\u001b[0m\u001b[0;34m(\u001b[0m\u001b[0mdata_iter\u001b[0m\u001b[0;34m)\u001b[0m\u001b[0;34m\u001b[0m\u001b[0;34m\u001b[0m\u001b[0m\n\u001b[0;32m-> 1924\u001b[0;31m         \u001b[0mconn\u001b[0m\u001b[0;34m.\u001b[0m\u001b[0mexecutemany\u001b[0m\u001b[0;34m(\u001b[0m\u001b[0mself\u001b[0m\u001b[0;34m.\u001b[0m\u001b[0minsert_statement\u001b[0m\u001b[0;34m(\u001b[0m\u001b[0mnum_rows\u001b[0m\u001b[0;34m=\u001b[0m\u001b[0;36m1\u001b[0m\u001b[0;34m)\u001b[0m\u001b[0;34m,\u001b[0m \u001b[0mdata_list\u001b[0m\u001b[0;34m)\u001b[0m\u001b[0;34m\u001b[0m\u001b[0;34m\u001b[0m\u001b[0m\n\u001b[0m\u001b[1;32m   1925\u001b[0m \u001b[0;34m\u001b[0m\u001b[0m\n\u001b[1;32m   1926\u001b[0m     \u001b[0;32mdef\u001b[0m \u001b[0m_execute_insert_multi\u001b[0m\u001b[0;34m(\u001b[0m\u001b[0mself\u001b[0m\u001b[0;34m,\u001b[0m \u001b[0mconn\u001b[0m\u001b[0;34m,\u001b[0m \u001b[0mkeys\u001b[0m\u001b[0;34m,\u001b[0m \u001b[0mdata_iter\u001b[0m\u001b[0;34m)\u001b[0m\u001b[0;34m:\u001b[0m\u001b[0;34m\u001b[0m\u001b[0;34m\u001b[0m\u001b[0m\n",
            "\u001b[0;32m/usr/lib/python3.9/sqlite3/dbapi2.py\u001b[0m in \u001b[0;36madapt_datetime\u001b[0;34m(val)\u001b[0m\n\u001b[1;32m     58\u001b[0m         \u001b[0;32mreturn\u001b[0m \u001b[0mval\u001b[0m\u001b[0;34m.\u001b[0m\u001b[0misoformat\u001b[0m\u001b[0;34m(\u001b[0m\u001b[0;34m)\u001b[0m\u001b[0;34m\u001b[0m\u001b[0;34m\u001b[0m\u001b[0m\n\u001b[1;32m     59\u001b[0m \u001b[0;34m\u001b[0m\u001b[0m\n\u001b[0;32m---> 60\u001b[0;31m     \u001b[0;32mdef\u001b[0m \u001b[0madapt_datetime\u001b[0m\u001b[0;34m(\u001b[0m\u001b[0mval\u001b[0m\u001b[0;34m)\u001b[0m\u001b[0;34m:\u001b[0m\u001b[0;34m\u001b[0m\u001b[0;34m\u001b[0m\u001b[0m\n\u001b[0m\u001b[1;32m     61\u001b[0m         \u001b[0;32mreturn\u001b[0m \u001b[0mval\u001b[0m\u001b[0;34m.\u001b[0m\u001b[0misoformat\u001b[0m\u001b[0;34m(\u001b[0m\u001b[0;34m\" \"\u001b[0m\u001b[0;34m)\u001b[0m\u001b[0;34m\u001b[0m\u001b[0;34m\u001b[0m\u001b[0m\n\u001b[1;32m     62\u001b[0m \u001b[0;34m\u001b[0m\u001b[0m\n",
            "\u001b[0;31mKeyboardInterrupt\u001b[0m: "
          ]
        }
      ]
    },
    {
      "cell_type": "code",
      "source": [
        "filepath=\"/content/gdrive/MyDrive/B_M/\"\n",
        "crsp=pd.read_csv(filepath + \"crsp_bv.csv\" )\n"
      ],
      "metadata": {
        "id": "75CR_os4L23w"
      },
      "execution_count": null,
      "outputs": []
    },
    {
      "cell_type": "code",
      "source": [
        "crsp['ret_adj']"
      ],
      "metadata": {
        "colab": {
          "base_uri": "https://localhost:8080/"
        },
        "id": "isQxUZtJX_Hb",
        "outputId": "a407ad0a-d92f-44e7-ff73-36b9ec708de7"
      },
      "execution_count": null,
      "outputs": [
        {
          "output_type": "execute_result",
          "data": {
            "text/plain": [
              "0           6.6770\n",
              "1          -7.8571\n",
              "2          -1.3274\n",
              "3          -7.5342\n",
              "4          -4.7619\n",
              "            ...   \n",
              "2030839   -29.8879\n",
              "2030840    -9.3383\n",
              "2030841   -10.9048\n",
              "2030842   -34.1818\n",
              "2030843    -5.0445\n",
              "Name: ret_adj, Length: 2030844, dtype: float64"
            ]
          },
          "metadata": {},
          "execution_count": 83
        }
      ]
    },
    {
      "cell_type": "markdown",
      "source": [
        "Generate prior year return skipping one month"
      ],
      "metadata": {
        "id": "Ebh08RsxxIMW"
      }
    },
    {
      "cell_type": "code",
      "source": [
        "\n",
        "for x in range(2,13):\n",
        "  crsp[f'return_t-{x}']/=100\n",
        "  crsp[f'return_t-{x}']+=1\n",
        "\n",
        "crsp['return_t-2_t-12'] = np.cumprod(crsp.loc[:, 'return_t-2':'return_t-12'], axis=1).iloc[:, -1]\n",
        "\n",
        "# Subtract 1 and convert the result back to percentage returns\n",
        "crsp['return_t-2_t-12'] = (crsp['return_t-2_t-12'] - 1) * 100"
      ],
      "metadata": {
        "id": "ciRvdo3DxFc1"
      },
      "execution_count": null,
      "outputs": []
    },
    {
      "cell_type": "markdown",
      "source": [
        "Sample Period: 1964-2017"
      ],
      "metadata": {
        "id": "iqFUkyXGxtCE"
      }
    },
    {
      "cell_type": "code",
      "source": [
        "#crsp.drop (['level_0', 'Unnamed: 0', 'Unnamed: 0.1'\t], axis=1, inplace=True)\n",
        "#crsp.drop(['level_0', 'Unnamed: 0', 'Unnamed: 0.1'], axis=1, inplace=True)\n",
        "crsp['date']=pd.to_datetime(crsp['date'])\n",
        "crsp=crsp[(\"1964-07-01\"<=crsp['date']) & (crsp['date']< \"2018-01-01\")]"
      ],
      "metadata": {
        "id": "GdnxI1ffxwAx"
      },
      "execution_count": null,
      "outputs": []
    },
    {
      "cell_type": "code",
      "source": [
        "crsp['tstk'] = crsp['tstk'].fillna(0)\n",
        "crsp['cc']=crsp['cstk']+crsp['caps']-crsp['tstk']"
      ],
      "metadata": {
        "id": "9YG8YG0OxzaB"
      },
      "execution_count": null,
      "outputs": []
    },
    {
      "cell_type": "markdown",
      "source": [
        "Trim variables at 1% and 99%"
      ],
      "metadata": {
        "id": "NvhOVmahx2QA"
      }
    },
    {
      "cell_type": "code",
      "source": [
        "'''\n",
        "for x in ['market_equity', 'book_to_market', 'reported_book_to_market', 'return_t-1', 'return_t-2_t-12']:\n",
        "    # Calculate the 1st and 99th percentiles\n",
        "    p1 = crsp[x].quantile(0.01)\n",
        "    p99 = crsp[x].quantile(0.99)\n",
        "\n",
        "    # Drop observations outside of the 1st and 99th percentiles\n",
        "    crsp = crsp[(crsp[x] >= p1) & (crsp[x] <= p99)]\n",
        "'''"
      ],
      "metadata": {
        "colab": {
          "base_uri": "https://localhost:8080/",
          "height": 105
        },
        "id": "fuzm56edx47I",
        "outputId": "d7b43c8b-91de-4c55-d926-48f2e311cd45"
      },
      "execution_count": null,
      "outputs": [
        {
          "output_type": "execute_result",
          "data": {
            "text/plain": [
              "\"\\nfor x in ['market_equity', 'book_to_market', 'reported_book_to_market', 'return_t-1', 'return_t-2_t-12']:\\n    # Calculate the 1st and 99th percentiles\\n    p1 = crsp[x].quantile(0.01)\\n    p99 = crsp[x].quantile(0.99)\\n\\n    # Drop observations outside of the 1st and 99th percentiles\\n    crsp = crsp[(crsp[x] >= p1) & (crsp[x] <= p99)]\\n\""
            ],
            "application/vnd.google.colaboratory.intrinsic+json": {
              "type": "string"
            }
          },
          "metadata": {},
          "execution_count": 7
        }
      ]
    },
    {
      "cell_type": "code",
      "source": [
        "crsp_c=crsp.copy()"
      ],
      "metadata": {
        "id": "WQqxpmYRyH3N"
      },
      "execution_count": null,
      "outputs": []
    },
    {
      "cell_type": "code",
      "source": [
        "#positive book value of equity\n",
        "#crsp = crsp[crsp['book_value'] >= 0]\n",
        "\n",
        "#non-missing re and cc\n",
        "crsp = crsp.dropna(subset=['re', 'cc'])\n",
        "\n",
        "#Construct Book Value Componenents Scaled by Market Equity\n",
        "crsp['book_to_market']=crsp['book_value']/crsp['market_equity']\n",
        "crsp['reported_book_to_market']=crsp['ceq']/crsp['market_equity']\n",
        "crsp['contributed_capital_to_market']=crsp['cc']/crsp['market_equity']\n",
        "crsp['retained_earnings_to_market']=crsp['re']/crsp['market_equity']\n",
        "crsp['other_book_to_market']=crsp['acominc']/crsp['market_equity']\n",
        "\n",
        "#Construct Book Value Components Scaled by Book Value of Equity\n",
        "crsp['re/b']=crsp['re']/crsp['ceq']\n",
        "crsp['cc/b']=crsp['cc']/crsp['ceq']\n",
        "crsp['other/b']=crsp['acominc']/crsp['ceq']\n",
        "\n",
        "#create indicator variables for when components of bv are <0:\n",
        "for x in ['contributed_capital_to_market', 'retained_earnings_to_market', 'other_book_to_market']:\n",
        "    # Replace negative values with 0\n",
        "    #crsp[x] = crsp[x].clip(lower=0)\n",
        "    \n",
        "    # Create an indicator column which is 1 when the values are negative\n",
        "    crsp[f'{x}_neg'] = (crsp[x] < 0).astype(int)\n",
        "\n",
        "\n",
        "    # Apply the function to create a new column 'new_col'\n",
        "\n",
        "\n",
        "#create log of variables \n",
        "for x in ['market_equity', 'book_to_market', 'reported_book_to_market', 'contributed_capital_to_market', 'retained_earnings_to_market', 'other_book_to_market']:\n",
        "    # Create a new log variable\n",
        "    crsp[x+'_log'] = np.log(crsp[x])\n",
        "    crsp[x+'_log'] = crsp[x+'_log'].replace([-np.inf, np.inf, np.nan], 0)\n",
        "\n",
        "crsp['ret_adj']/=100\n",
        "crsp['return_t-1']/=100\n",
        "#crsp['return_t-2_t-12']/=100"
      ],
      "metadata": {
        "colab": {
          "base_uri": "https://localhost:8080/"
        },
        "id": "_OhPu_Z7yB4X",
        "outputId": "12748241-340a-4efa-ea72-12d7a34d0f2e"
      },
      "execution_count": null,
      "outputs": [
        {
          "output_type": "stream",
          "name": "stderr",
          "text": [
            "/usr/local/lib/python3.9/dist-packages/pandas/core/arraylike.py:397: RuntimeWarning: divide by zero encountered in log\n",
            "  result = getattr(ufunc, method)(*inputs, **kwargs)\n",
            "/usr/local/lib/python3.9/dist-packages/pandas/core/arraylike.py:397: RuntimeWarning: invalid value encountered in log\n",
            "  result = getattr(ufunc, method)(*inputs, **kwargs)\n",
            "/usr/local/lib/python3.9/dist-packages/pandas/core/arraylike.py:397: RuntimeWarning: divide by zero encountered in log\n",
            "  result = getattr(ufunc, method)(*inputs, **kwargs)\n",
            "/usr/local/lib/python3.9/dist-packages/pandas/core/arraylike.py:397: RuntimeWarning: invalid value encountered in log\n",
            "  result = getattr(ufunc, method)(*inputs, **kwargs)\n",
            "/usr/local/lib/python3.9/dist-packages/pandas/core/arraylike.py:397: RuntimeWarning: divide by zero encountered in log\n",
            "  result = getattr(ufunc, method)(*inputs, **kwargs)\n",
            "/usr/local/lib/python3.9/dist-packages/pandas/core/arraylike.py:397: RuntimeWarning: invalid value encountered in log\n",
            "  result = getattr(ufunc, method)(*inputs, **kwargs)\n",
            "/usr/local/lib/python3.9/dist-packages/pandas/core/arraylike.py:397: RuntimeWarning: divide by zero encountered in log\n",
            "  result = getattr(ufunc, method)(*inputs, **kwargs)\n",
            "/usr/local/lib/python3.9/dist-packages/pandas/core/arraylike.py:397: RuntimeWarning: invalid value encountered in log\n",
            "  result = getattr(ufunc, method)(*inputs, **kwargs)\n",
            "/usr/local/lib/python3.9/dist-packages/pandas/core/arraylike.py:397: RuntimeWarning: divide by zero encountered in log\n",
            "  result = getattr(ufunc, method)(*inputs, **kwargs)\n",
            "/usr/local/lib/python3.9/dist-packages/pandas/core/arraylike.py:397: RuntimeWarning: invalid value encountered in log\n",
            "  result = getattr(ufunc, method)(*inputs, **kwargs)\n"
          ]
        }
      ]
    },
    {
      "cell_type": "code",
      "source": [
        "break"
      ],
      "metadata": {
        "colab": {
          "base_uri": "https://localhost:8080/",
          "height": 131
        },
        "id": "bxrRu2rHIxcg",
        "outputId": "bebfa512-e782-49b7-e6c3-6977a5bebadb"
      },
      "execution_count": null,
      "outputs": [
        {
          "output_type": "error",
          "ename": "SyntaxError",
          "evalue": "ignored",
          "traceback": [
            "\u001b[0;36m  File \u001b[0;32m\"<ipython-input-10-6aaf1f276005>\"\u001b[0;36m, line \u001b[0;32m1\u001b[0m\n\u001b[0;31m    break\u001b[0m\n\u001b[0m    ^\u001b[0m\n\u001b[0;31mSyntaxError\u001b[0m\u001b[0;31m:\u001b[0m 'break' outside loop\n"
          ]
        }
      ]
    },
    {
      "cell_type": "markdown",
      "source": [
        "# 2A"
      ],
      "metadata": {
        "id": "pQ7N7TZeyowV"
      }
    },
    {
      "cell_type": "code",
      "source": [
        "#build regression dataframe\n",
        "\n",
        "a = pd.DataFrame({'regressor': ['log(me)', 'R1', 'R12', 'log(be/me)', 'log(re/me)', 'log(cc/me)', 'log(aoci/me)', 'RE<0', 'CC<0', 'AOCI<0', 'Average ADJ R2']})\n",
        "a"
      ],
      "metadata": {
        "id": "2U07CuSWyrgG"
      },
      "execution_count": null,
      "outputs": []
    },
    {
      "cell_type": "code",
      "source": [
        "#build regression dataframe\n",
        "\n",
        "a = pd.DataFrame({'regressor': ['log(me)', 'R1', 'R12', 'log(be/me)', 'log(re/me)', 'log(cc/me)', 'log(aoci/me)', 'RE<0', 'CC<0', 'AOCI<0', 'Average ADJ R2']})\n",
        "a\n",
        "#build dataframe to store coefficients\n",
        "df = pd.DataFrame({'DATE':[], 'ME': [], 'R1': [], 'R12': [], 'cc': [], 'I': []})\n",
        "dates=crsp['date'].unique()\n",
        "import statsmodels.api as sm\n",
        "\n",
        "for date in dates:\n",
        "\n",
        "  # Create the design matrix X\n",
        "  crsp_temp=crsp[crsp['date']==date]\n",
        "  X = crsp_temp[['market_equity_log','return_t-1', 'return_t-2_t-12', 'book_to_market_log'  ]]\n",
        "  X = sm.add_constant(X)\n",
        "\n",
        "  # Create the target vector y\n",
        "  y = crsp_temp['ret_adj']\n",
        "\n",
        "  # Create the regression model without a constant\n",
        "  model = sm.OLS(y, X)\n",
        "\n",
        "  # Fit the model and print the summary\n",
        "  results = model.fit()\n",
        "  params = results.params\n",
        "  adj_r2 = results.rsquared_adj\n",
        "\n",
        "  #print(params)\n",
        "  new_row = {'Date': date, 'ME': params[1]*100, 'R1': params[2]*100, 'R12': params[3]*100, 'BM':params[4]*100, 'r2':adj_r2*100}\n",
        "  df = df.append(new_row, ignore_index=True)\n",
        "  print(date)\n",
        "\n",
        "a.loc[a['regressor'] == 'log(me)', '(1)'] = \"{:.2f} ({:.2f})\".format(df['ME'].mean(), df['ME'].mean()/(df['ME'].std()/np.sqrt(len(df))))\n",
        "a.loc[a['regressor'] == 'R1', '(1)'] = \"{:.2f} ({:.2f})\".format(df['R1'].mean(), df['R1'].mean()/(df['R1'].std()/np.sqrt(len(df))))\n",
        "a.loc[a['regressor'] == 'R12', '(1)'] = \"{:.2f} ({:.2f})\".format(df['R12'].mean(), df['R12'].mean()/(df['R12'].std()/np.sqrt(len(df))))\n",
        "a.loc[a['regressor'] == 'log(be/me)', '(1)'] = \"{:.2f} ({:.2f})\".format(df['BM'].mean(), df['BM'].mean()/(df['BM'].std()/np.sqrt(len(df))))\n",
        "a.loc[a['regressor'] == 'Average ADJ R2', '(1)'] = df['r2'].mean()\n"
      ],
      "metadata": {
        "id": "1ynOf4wRyslL"
      },
      "execution_count": null,
      "outputs": []
    },
    {
      "cell_type": "code",
      "source": [
        "#build dataframe to store coefficients\n",
        "df = pd.DataFrame({'DATE':[], 'ME': [], 'R1': [], 'R12': [], 'cc': [], 'I': []})\n",
        "dates=crsp['date'].unique()\n",
        "import statsmodels.api as sm\n",
        "\n",
        "for date in dates:\n",
        "\n",
        "  # Create the design matrix X\n",
        "  crsp_temp=crsp[crsp['date']==date]\n",
        "  X = crsp_temp[['market_equity_log','return_t-1', 'return_t-2_t-12',  'retained_earnings_to_market_log', 'retained_earnings_to_market_neg'  ]]\n",
        "  X = sm.add_constant(X)\n",
        "\n",
        "  # Create the target vector y\n",
        "  y = crsp_temp['ret_adj']\n",
        "\n",
        "  # Create the regression model without a constant\n",
        "  model = sm.OLS(y, X)\n",
        "\n",
        "  # Fit the model and print the summary\n",
        "  results = model.fit()\n",
        "  params = results.params\n",
        "  adj_r2 = results.rsquared_adj\n",
        "\n",
        "  #print(params)\n",
        "  new_row = {'Date': date, 'ME': params[1]*100, 'R1': params[2]*100, 'R12': params[3]*100, 'RE':params[4]*100, 'I':params[5]*100, 'r2':adj_r2*100}\n",
        "  df = df.append(new_row, ignore_index=True)\n",
        "  print(date)\n",
        "\n",
        "a.loc[a['regressor'] == 'log(me)', '(2)'] = \"{:.2f} ({:.2f})\".format(df['ME'].mean(), df['ME'].mean()/(df['ME'].std()/np.sqrt(len(df))))\n",
        "a.loc[a['regressor'] == 'R1', '(2)'] = \"{:.2f} ({:.2f})\".format(df['R1'].mean(), df['R1'].mean()/(df['R1'].std()/np.sqrt(len(df))))\n",
        "a.loc[a['regressor'] == 'R12', '(2)'] = \"{:.2f} ({:.2f})\".format(df['R12'].mean(), df['R12'].mean()/(df['R12'].std()/np.sqrt(len(df))))\n",
        "a.loc[a['regressor'] == 'log(re/me)', '(2)'] = \"{:.2f} ({:.2f})\".format(df['RE'].mean(), df['RE'].mean()/(df['RE'].std()/np.sqrt(len(df))))\n",
        "a.loc[a['regressor'] == 'RE<0', '(2)'] = \"{:.2f} ({:.2f})\".format(df['I'].mean(), df['I'].mean()/(df['I'].std()/np.sqrt(len(df))))\n",
        "\n",
        "a.loc[a['regressor'] == 'Average ADJ R2', '(2)'] = df['r2'].mean()\n"
      ],
      "metadata": {
        "id": "jnBIZGUtyu30"
      },
      "execution_count": null,
      "outputs": []
    },
    {
      "cell_type": "code",
      "source": [
        "#build dataframe to store coefficients\n",
        "df = pd.DataFrame({'DATE':[], 'ME': [], 'R1': [], 'R12': [], 'cc': [], 'I': []})\n",
        "dates=crsp['date'].unique()\n",
        "import statsmodels.api as sm\n",
        "\n",
        "for date in dates:\n",
        "\n",
        "  # Create the design matrix X\n",
        "  crsp_temp=crsp[crsp['date']==date]\n",
        "  X = crsp_temp[['market_equity_log','return_t-1', 'return_t-2_t-12', 'book_to_market_log', 'retained_earnings_to_market_log', 'retained_earnings_to_market_neg'  ]]\n",
        "  X = sm.add_constant(X)\n",
        "\n",
        "  # Create the target vector y\n",
        "  y = crsp_temp['ret_adj']\n",
        "\n",
        "  # Create the regression model without a constant\n",
        "  model = sm.OLS(y, X)\n",
        "\n",
        "  # Fit the model and print the summary\n",
        "  results = model.fit()\n",
        "  params = results.params\n",
        "  adj_r2 = results.rsquared_adj\n",
        "\n",
        "  #print(params)\n",
        "  new_row = {'Date': date, 'ME': params[1]*100, 'R1': params[2]*100, 'R12': params[3]*100, 'BM':params[4]*100, 'RE':params[5]*100, 'I':params[6]*100, 'r2':adj_r2*100}\n",
        "  df = df.append(new_row, ignore_index=True)\n",
        "  print(date)\n",
        "\n",
        "a.loc[a['regressor'] == 'log(me)', '(3)'] = \"{:.2f} ({:.2f})\".format(df['ME'].mean(), df['ME'].mean()/(df['ME'].std()/np.sqrt(len(df))))\n",
        "a.loc[a['regressor'] == 'R1', '(3)'] = \"{:.2f} ({:.2f})\".format(df['R1'].mean(), df['R1'].mean()/(df['R1'].std()/np.sqrt(len(df))))\n",
        "a.loc[a['regressor'] == 'R12', '(3)'] = \"{:.2f} ({:.2f})\".format(df['R12'].mean(), df['R12'].mean()/(df['R12'].std()/np.sqrt(len(df))))\n",
        "a.loc[a['regressor'] == 'log(be/me)', '(3)'] = \"{:.2f} ({:.2f})\".format(df['BM'].mean(), df['BM'].mean()/(df['BM'].std()/np.sqrt(len(df))))\n",
        "a.loc[a['regressor'] == 'log(re/me)', '(3)'] = \"{:.2f} ({:.2f})\".format(df['RE'].mean(), df['RE'].mean()/(df['RE'].std()/np.sqrt(len(df))))\n",
        "a.loc[a['regressor'] == 'RE<0', '(3)'] = \"{:.2f} ({:.2f})\".format(df['I'].mean(), df['I'].mean()/(df['I'].std()/np.sqrt(len(df))))\n",
        "\n",
        "a.loc[a['regressor'] == 'Average ADJ R2', '(3)'] = df['r2'].mean()\n"
      ],
      "metadata": {
        "id": "HrhxWhuLyxEc"
      },
      "execution_count": null,
      "outputs": []
    },
    {
      "cell_type": "code",
      "source": [
        "#build dataframe to store coefficients\n",
        "df = pd.DataFrame({'DATE':[], 'ME': [], 'R1': [], 'R12': [], 'cc': [], 'I': []})\n",
        "dates=crsp['date'].unique()\n",
        "import statsmodels.api as sm\n",
        "\n",
        "for date in dates:\n",
        "\n",
        "  # Create the design matrix X\n",
        "  crsp_temp=crsp[crsp['date']==date]\n",
        "  X = crsp_temp[['market_equity_log','return_t-1', 'return_t-2_t-12', 'contributed_capital_to_market_log', 'contributed_capital_to_market_neg']]\n",
        "  X = sm.add_constant(X)\n",
        "\n",
        "  # Create the target vector y\n",
        "  y = crsp_temp['ret_adj']\n",
        "\n",
        "  # Create the regression model without a constant\n",
        "  model = sm.OLS(y, X)\n",
        "\n",
        "  # Fit the model and print the summary\n",
        "  results = model.fit()\n",
        "  params = results.params\n",
        "  adj_r2 = results.rsquared_adj\n",
        "\n",
        "  #print(params)\n",
        "  new_row = {'Date': date, 'ME': params[1]*100, 'R1': params[2]*100, 'R12': params[3]*100, 'CC':params[4]*100, 'i':params[5]*100, 'r2':adj_r2*100}\n",
        "  df = df.append(new_row, ignore_index=True)\n",
        "  print(date)\n",
        "\n",
        "a.loc[a['regressor'] == 'log(me)', '(4)'] = \"{:.2f} ({:.2f})\".format(df['ME'].mean(), df['ME'].mean()/(df['ME'].std()/np.sqrt(len(df))))\n",
        "a.loc[a['regressor'] == 'R1', '(4)'] = \"{:.2f} ({:.2f})\".format(df['R1'].mean(), df['R1'].mean()/(df['R1'].std()/np.sqrt(len(df))))\n",
        "a.loc[a['regressor'] == 'R12', '(4)'] = \"{:.2f} ({:.2f})\".format(df['R12'].mean(), df['R12'].mean()/(df['R12'].std()/np.sqrt(len(df))))\n",
        "a.loc[a['regressor'] == 'log(cc/me)', '(4)'] = \"{:.2f} ({:.2f})\".format(df['CC'].mean(), df['CC'].mean()/(df['CC'].std()/np.sqrt(len(df))))\n",
        "\n",
        "a.loc[a['regressor'] == 'CC<0', '(4)'] = \"{:.2f} ({:.2f})\".format(df['i'].mean(), df['i'].mean()/(df['i'].std()/np.sqrt(len(df))))\n",
        "\n",
        "a.loc[a['regressor'] == 'Average ADJ R2', '(4)'] = df['r2'].mean()\n"
      ],
      "metadata": {
        "id": "bEAKMZ8DyykP"
      },
      "execution_count": null,
      "outputs": []
    },
    {
      "cell_type": "code",
      "source": [
        "#build dataframe to store coefficients\n",
        "df = pd.DataFrame({'DATE':[], 'ME': [], 'R1': [], 'R12': [], 'cc': [], 'I': []})\n",
        "dates=crsp['date'].unique()\n",
        "import statsmodels.api as sm\n",
        "\n",
        "for date in dates:\n",
        "\n",
        "  # Create the design matrix X\n",
        "  crsp_temp=crsp[crsp['date']==date]\n",
        "  X = crsp_temp[['market_equity_log','return_t-1', 'return_t-2_t-12', 'contributed_capital_to_market_log', 'contributed_capital_to_market_neg', 'book_to_market_log']]\n",
        "  X = sm.add_constant(X)\n",
        "\n",
        "  # Create the target vector y\n",
        "  y = crsp_temp['ret_adj']\n",
        "\n",
        "  # Create the regression model without a constant\n",
        "  model = sm.OLS(y, X)\n",
        "\n",
        "  # Fit the model and print the summary\n",
        "  results = model.fit()\n",
        "  params = results.params\n",
        "  adj_r2 = results.rsquared_adj\n",
        "\n",
        "  #print(params)\n",
        "  new_row = {'Date': date, 'ME': params[1]*100, 'R1': params[2]*100, 'R12': params[3]*100, 'CC':params[4]*100, 'i':params[5]*100, 'BM':params[6]*100, 'r2':adj_r2*100}\n",
        "  df = df.append(new_row, ignore_index=True)\n",
        "  print(date)\n",
        "\n",
        "a.loc[a['regressor'] == 'log(me)', '(5)'] = \"{:.2f} ({:.2f})\".format(df['ME'].mean(), df['ME'].mean()/(df['ME'].std()/np.sqrt(len(df))))\n",
        "a.loc[a['regressor'] == 'R1', '(5)'] = \"{:.2f} ({:.2f})\".format(df['R1'].mean(), df['R1'].mean()/(df['R1'].std()/np.sqrt(len(df))))\n",
        "a.loc[a['regressor'] == 'R12', '(5)'] = \"{:.2f} ({:.2f})\".format(df['R12'].mean(), df['R12'].mean()/(df['R12'].std()/np.sqrt(len(df))))\n",
        "a.loc[a['regressor'] == 'log(cc/me)', '(5)'] = \"{:.2f} ({:.2f})\".format(df['CC'].mean(), df['CC'].mean()/(df['CC'].std()/np.sqrt(len(df))))\n",
        "\n",
        "a.loc[a['regressor'] == 'CC<0', '(5)'] = \"{:.2f} ({:.2f})\".format(df['i'].mean(), df['i'].mean()/(df['i'].std()/np.sqrt(len(df))))\n",
        "a.loc[a['regressor'] == 'log(be/me)', '(5)'] = \"{:.2f} ({:.2f})\".format(df['BM'].mean(), df['BM'].mean()/(df['BM'].std()/np.sqrt(len(df))))\n",
        "\n",
        "a.loc[a['regressor'] == 'Average ADJ R2', '(5)'] = df['r2'].mean()\n"
      ],
      "metadata": {
        "id": "zFDwcj4ky04_"
      },
      "execution_count": null,
      "outputs": []
    },
    {
      "cell_type": "code",
      "source": [
        "#build dataframe to store coefficients\n",
        "df = pd.DataFrame({'DATE':[], 'ME': [], 'R1': [], 'R12': [], 'cc': [], 'I': []})\n",
        "dates=crsp['date'].unique()\n",
        "import statsmodels.api as sm\n",
        "\n",
        "for date in dates:\n",
        "\n",
        "  # Create the design matrix X\n",
        "  crsp_temp=crsp[crsp['date']==date]\n",
        "  X = crsp_temp[['market_equity_log','return_t-1', 'return_t-2_t-12', 'other_book_to_market_log', 'other_book_to_market_neg'  ]]\n",
        "  X = sm.add_constant(X)\n",
        "\n",
        "  # Create the target vector y\n",
        "  y = crsp_temp['ret_adj']\n",
        "\n",
        "  # Create the regression model without a constant\n",
        "  model = sm.OLS(y, X)\n",
        "\n",
        "  # Fit the model and print the summary\n",
        "  results = model.fit()\n",
        "  params = results.params\n",
        "  adj_r2 = results.rsquared_adj\n",
        "\n",
        "  #print(params)\n",
        "  new_row = {'Date': date, 'ME': params[1]*100, 'R1': params[2]*100, 'R12': params[3]*100, 'O':params[4]*100, 'I':params[5]*100, 'r2':adj_r2*100}\n",
        "  df = df.append(new_row, ignore_index=True)\n",
        "  print(date)\n",
        "\n",
        "a.loc[a['regressor'] == 'log(me)', '(6)'] = \"{:.2f} ({:.2f})\".format(df['ME'].mean(), df['ME'].mean()/(df['ME'].std()/np.sqrt(len(df))))\n",
        "a.loc[a['regressor'] == 'R1', '(6)'] = \"{:.2f} ({:.2f})\".format(df['R1'].mean(), df['R1'].mean()/(df['R1'].std()/np.sqrt(len(df))))\n",
        "a.loc[a['regressor'] == 'R12', '(6)'] = \"{:.2f} ({:.2f})\".format(df['R12'].mean(), df['R12'].mean()/(df['R12'].std()/np.sqrt(len(df))))\n",
        "a.loc[a['regressor'] == 'log(aoci/me)', '(6)'] = \"{:.2f} ({:.2f})\".format(df['O'].mean(), df['O'].mean()/(df['O'].std()/np.sqrt(len(df))))\n",
        "a.loc[a['regressor'] == 'AOCI<0', '(6)'] = \"{:.2f} ({:.2f})\".format(df['I'].mean(), df['I'].mean()/(df['I'].std()/np.sqrt(len(df))))\n",
        "\n",
        "a.loc[a['regressor'] == 'Average ADJ R2', '(6)'] = df['r2'].mean()\n"
      ],
      "metadata": {
        "id": "qc_J6ZOZy2tX"
      },
      "execution_count": null,
      "outputs": []
    },
    {
      "cell_type": "code",
      "source": [
        "#build dataframe to store coefficients\n",
        "df = pd.DataFrame({'DATE':[], 'ME': [], 'R1': [], 'R12': [], 'cc': [], 'I': []})\n",
        "dates=crsp['date'].unique()\n",
        "import statsmodels.api as sm\n",
        "\n",
        "for date in dates:\n",
        "\n",
        "  # Create the design matrix X\n",
        "  crsp_temp=crsp[crsp['date']==date]\n",
        "  X = crsp_temp[['market_equity_log','return_t-1', 'return_t-2_t-12', 'other_book_to_market_log', 'other_book_to_market_neg', 'book_to_market_log'  ]]\n",
        "  X = sm.add_constant(X)\n",
        "\n",
        "  # Create the target vector y\n",
        "  y = crsp_temp['ret_adj']\n",
        "\n",
        "  # Create the regression model without a constant\n",
        "  model = sm.OLS(y, X)\n",
        "\n",
        "  # Fit the model and print the summary\n",
        "  results = model.fit()\n",
        "  params = results.params\n",
        "  adj_r2 = results.rsquared_adj\n",
        "\n",
        "  #print(params)\n",
        "  new_row = {'Date': date, 'ME': params[1]*100, 'R1': params[2]*100, 'R12': params[3]*100, 'O':params[4]*100, 'I':params[5]*100, 'BM':params[6]*100, 'r2':adj_r2*100}\n",
        "  df = df.append(new_row, ignore_index=True)\n",
        "  print(date)\n",
        "\n",
        "a.loc[a['regressor'] == 'log(me)', '(7)'] = \"{:.2f} ({:.2f})\".format(df['ME'].mean(), df['ME'].mean()/(df['ME'].std()/np.sqrt(len(df))))\n",
        "a.loc[a['regressor'] == 'R1', '(7)'] = \"{:.2f} ({:.2f})\".format(df['R1'].mean(), df['R1'].mean()/(df['R1'].std()/np.sqrt(len(df))))\n",
        "a.loc[a['regressor'] == 'R12', '(7)'] = \"{:.2f} ({:.2f})\".format(df['R12'].mean(), df['R12'].mean()/(df['R12'].std()/np.sqrt(len(df))))\n",
        "a.loc[a['regressor'] == 'log(aoci/me)', '(7)'] = \"{:.2f} ({:.2f})\".format(df['O'].mean(), df['O'].mean()/(df['O'].std()/np.sqrt(len(df))))\n",
        "a.loc[a['regressor'] == 'log(be/me)', '(7)'] = \"{:.2f} ({:.2f})\".format(df['BM'].mean(), df['BM'].mean()/(df['BM'].std()/np.sqrt(len(df))))\n",
        "\n",
        "a.loc[a['regressor'] == 'AOCI<0', '(7)'] = \"{:.2f} ({:.2f})\".format(df['I'].mean(), df['I'].mean()/(df['I'].std()/np.sqrt(len(df))))\n",
        "\n",
        "a.loc[a['regressor'] == 'Average ADJ R2', '(7)'] = df['r2'].mean()\n"
      ],
      "metadata": {
        "id": "M4FfndbIy41C"
      },
      "execution_count": null,
      "outputs": []
    },
    {
      "cell_type": "code",
      "source": [
        " #build dataframe to store coefficients\n",
        "df = pd.DataFrame({'DATE':[], 'ME': [], 'R1': [], 'R12': [], 'cc': [], 'I': []})\n",
        "dates=crsp['date'].unique()\n",
        "import statsmodels.api as sm\n",
        "\n",
        "for date in dates:\n",
        "\n",
        "  # Create the design matrix X\n",
        "  crsp_temp=crsp[crsp['date']==date]\n",
        "  X = crsp_temp[['market_equity_log','return_t-1', 'return_t-2_t-12', 'other_book_to_market_log', 'other_book_to_market_neg', 'retained_earnings_to_market_log', 'retained_earnings_to_market_neg', 'contributed_capital_to_market_log', 'contributed_capital_to_market_neg'  ]]\n",
        "  X = sm.add_constant(X)\n",
        "\n",
        "  # Create the target vector y\n",
        "  y = crsp_temp['ret_adj']\n",
        "\n",
        "  # Create the regression model without a constant\n",
        "  model = sm.OLS(y, X)\n",
        "\n",
        "  # Fit the model and print the summary\n",
        "  results = model.fit()\n",
        "  params = results.params\n",
        "  adj_r2 = results.rsquared_adj\n",
        "\n",
        "  #print(params)\n",
        "  new_row = {'Date': date, 'ME': params[1]*100, 'R1': params[2]*100, 'R12': params[3]*100, 'O':params[4]*100, 'I':params[5]*100, 'RE':params[6]*100, 'RI':params[7]*100, 'CC':params[8]*100, 'CI':params[9], 'r2':adj_r2*100}\n",
        "  df = df.append(new_row, ignore_index=True)\n",
        "  print(date)\n",
        "\n",
        "a.loc[a['regressor'] == 'log(me)', '(8)'] = \"{:.2f} ({:.2f})\".format(df['ME'].mean(), df['ME'].mean()/(df['ME'].std()/np.sqrt(len(df))))\n",
        "a.loc[a['regressor'] == 'R1', '(8)'] = \"{:.2f} ({:.2f})\".format(df['R1'].mean(), df['R1'].mean()/(df['R1'].std()/np.sqrt(len(df))))\n",
        "a.loc[a['regressor'] == 'R12', '(8)'] = \"{:.2f} ({:.2f})\".format(df['R12'].mean(), df['R12'].mean()/(df['R12'].std()/np.sqrt(len(df))))\n",
        "a.loc[a['regressor'] == 'log(aoci/me)', '(8)'] = \"{:.2f} ({:.2f})\".format(df['O'].mean(), df['O'].mean()/(df['O'].std()/np.sqrt(len(df))))\n",
        "a.loc[a['regressor'] == 'log(re/me)', '(8)'] = \"{:.2f} ({:.2f})\".format(df['RE'].mean(), df['RE'].mean()/(df['RE'].std()/np.sqrt(len(df))))\n",
        "a.loc[a['regressor'] == 'RE<0', '(8)'] = \"{:.2f} ({:.2f})\".format(df['RI'].mean(), df['RI'].mean()/(df['RI'].std()/np.sqrt(len(df))))\n",
        "a.loc[a['regressor'] == 'loc(cc/me)', '(8)'] = \"{:.2f} ({:.2f})\".format(df['CC'].mean(), df['CC'].mean()/(df['CC'].std()/np.sqrt(len(df))))\n",
        "\n",
        "a.loc[a['regressor'] == 'CC<0', '(8)'] = \"{:.2f} ({:.2f})\".format(df['CI'].mean(), df['CI'].mean()/(df['CI'].std()/np.sqrt(len(df))))\n",
        "\n",
        "a.loc[a['regressor'] == 'AOCI<0', '(8)'] = \"{:.2f} ({:.2f})\".format(df['I'].mean(), df['I'].mean()/(df['I'].std()/np.sqrt(len(df))))\n",
        "\n",
        "a.loc[a['regressor'] == 'Average ADJ R2', '(8)'] = df['r2'].mean()\n"
      ],
      "metadata": {
        "id": "5M14a2rAy6uL"
      },
      "execution_count": null,
      "outputs": []
    },
    {
      "cell_type": "code",
      "source": [
        "a.fillna('-', inplace=True)\n",
        "a.set_index('regressor', inplace=True)\n",
        "table2_a=a\n",
        "table2_a"
      ],
      "metadata": {
        "id": "7kWGFvBUy-tt"
      },
      "execution_count": null,
      "outputs": []
    },
    {
      "cell_type": "markdown",
      "source": [
        "# 2B"
      ],
      "metadata": {
        "id": "zcx7Yl9Fz2HT"
      }
    },
    {
      "cell_type": "code",
      "source": [
        "#build regression dataframe\n",
        "\n",
        "a = pd.DataFrame({'regressor': ['log(me)', 'R1', 'R12', 'log(Reported BE/ME)', 'log(re/me)', 'log(cc/me)', 'log(aoci/me)', 'RE<0', 'CC<0', 'AOCI<0', 'Average ADJ R2']})\n",
        "a\n",
        "#build dataframe to store coefficients\n",
        "df = pd.DataFrame({'DATE':[], 'ME': [], 'R1': [], 'R12': [], 'cc': [], 'I': []})\n",
        "dates=crsp['date'].unique()\n",
        "import statsmodels.api as sm\n",
        "\n",
        "for date in dates:\n",
        "\n",
        "  # Create the design matrix X\n",
        "  crsp_temp=crsp[crsp['date']==date]\n",
        "  X = crsp_temp[['market_equity_log','return_t-1', 'return_t-2_t-12', 'reported_book_to_market_log'  ]]\n",
        "  X = sm.add_constant(X)\n",
        "\n",
        "  # Create the target vector y\n",
        "  y = crsp_temp['ret_adj']\n",
        "\n",
        "  # Create the regression model without a constant\n",
        "  model = sm.OLS(y, X)\n",
        "\n",
        "  # Fit the model and print the summary\n",
        "  results = model.fit()\n",
        "  params = results.params\n",
        "  adj_r2 = results.rsquared_adj\n",
        "\n",
        "  #print(params)\n",
        "  new_row = {'Date': date, 'ME': params[1]*100, 'R1': params[2]*100, 'R12': params[3]*100, 'BM':params[4]*100, 'r2':adj_r2*100}\n",
        "  df = df.append(new_row, ignore_index=True)\n",
        "  print(date)\n",
        "\n",
        "a.loc[a['regressor'] == 'log(me)', '(1)'] = \"{:.2f} ({:.2f})\".format(df['ME'].mean(), df['ME'].mean()/(df['ME'].std()/np.sqrt(len(df))))\n",
        "a.loc[a['regressor'] == 'R1', '(1)'] = \"{:.2f} ({:.2f})\".format(df['R1'].mean(), df['R1'].mean()/(df['R1'].std()/np.sqrt(len(df))))\n",
        "a.loc[a['regressor'] == 'R12', '(1)'] = \"{:.2f} ({:.2f})\".format(df['R12'].mean(), df['R12'].mean()/(df['R12'].std()/np.sqrt(len(df))))\n",
        "a.loc[a['regressor'] == 'log(Reported BE/ME)', '(1)'] = \"{:.2f} ({:.2f})\".format(df['BM'].mean(), df['BM'].mean()/(df['BM'].std()/np.sqrt(len(df))))\n",
        "a.loc[a['regressor'] == 'Average ADJ R2', '(1)'] = df['r2'].mean()\n"
      ],
      "metadata": {
        "id": "B58NDpMfz4JC"
      },
      "execution_count": null,
      "outputs": []
    },
    {
      "cell_type": "code",
      "source": [
        "#build dataframe to store coefficients\n",
        "df = pd.DataFrame({'DATE':[], 'ME': [], 'R1': [], 'R12': [], 'cc': [], 'I': []})\n",
        "dates=crsp['date'].unique()\n",
        "import statsmodels.api as sm\n",
        "\n",
        "for date in dates:\n",
        "\n",
        "  # Create the design matrix X\n",
        "  crsp_temp=crsp[crsp['date']==date]\n",
        "  X = crsp_temp[['market_equity_log','return_t-1', 'return_t-2_t-12', 'reported_book_to_market_log', 'retained_earnings_to_market_log', 'retained_earnings_to_market_neg'  ]]\n",
        "  X = sm.add_constant(X)\n",
        "\n",
        "  # Create the target vector y\n",
        "  y = crsp_temp['ret_adj']\n",
        "\n",
        "  # Create the regression model without a constant\n",
        "  model = sm.OLS(y, X)\n",
        "\n",
        "  # Fit the model and print the summary\n",
        "  results = model.fit()\n",
        "  params = results.params\n",
        "  adj_r2 = results.rsquared_adj\n",
        "\n",
        "  #print(params)\n",
        "  new_row = {'Date': date, 'ME': params[1]*100, 'R1': params[2]*100, 'R12': params[3]*100, 'BM':params[4]*100, 'RE':params[5]*100, 'I':params[6]*100, 'r2':adj_r2*100}\n",
        "  df = df.append(new_row, ignore_index=True)\n",
        "  print(date)\n",
        "\n",
        "a.loc[a['regressor'] == 'log(me)', '(2)'] = \"{:.2f} ({:.2f})\".format(df['ME'].mean(), df['ME'].mean()/(df['ME'].std()/np.sqrt(len(df))))\n",
        "a.loc[a['regressor'] == 'R1', '(2)'] = \"{:.2f} ({:.2f})\".format(df['R1'].mean(), df['R1'].mean()/(df['R1'].std()/np.sqrt(len(df))))\n",
        "a.loc[a['regressor'] == 'R12', '(2)'] = \"{:.2f} ({:.2f})\".format(df['R12'].mean(), df['R12'].mean()/(df['R12'].std()/np.sqrt(len(df))))\n",
        "a.loc[a['regressor'] == 'log(Reported BE/ME)', '(2)'] = \"{:.2f} ({:.2f})\".format(df['BM'].mean(), df['BM'].mean()/(df['BM'].std()/np.sqrt(len(df))))\n",
        "a.loc[a['regressor'] == 'log(re/me)', '(2)'] = \"{:.2f} ({:.2f})\".format(df['RE'].mean(), df['RE'].mean()/(df['RE'].std()/np.sqrt(len(df))))\n",
        "a.loc[a['regressor'] == 'RE<0', '(2)'] = \"{:.2f} ({:.2f})\".format(df['I'].mean(), df['I'].mean()/(df['I'].std()/np.sqrt(len(df))))\n",
        "\n",
        "a.loc[a['regressor'] == 'Average ADJ R2', '(2)'] = df['r2'].mean()\n"
      ],
      "metadata": {
        "id": "5kK4jun_z8SJ"
      },
      "execution_count": null,
      "outputs": []
    },
    {
      "cell_type": "code",
      "source": [
        "#build dataframe to store coefficients\n",
        "df = pd.DataFrame({'DATE':[], 'ME': [], 'R1': [], 'R12': [], 'cc': [], 'I': []})\n",
        "dates=crsp['date'].unique()\n",
        "import statsmodels.api as sm\n",
        "\n",
        "for date in dates:\n",
        "\n",
        "  # Create the design matrix X\n",
        "  crsp_temp=crsp[crsp['date']==date]\n",
        "  X = crsp_temp[['market_equity_log','return_t-1', 'return_t-2_t-12', 'contributed_capital_to_market_log', 'contributed_capital_to_market_neg', 'reported_book_to_market_log']]\n",
        "  X = sm.add_constant(X)\n",
        "\n",
        "  # Create the target vector y\n",
        "  y = crsp_temp['ret_adj']\n",
        "\n",
        "  # Create the regression model without a constant\n",
        "  model = sm.OLS(y, X)\n",
        "\n",
        "  # Fit the model and print the summary\n",
        "  results = model.fit()\n",
        "  params = results.params\n",
        "  adj_r2 = results.rsquared_adj\n",
        "\n",
        "  #print(params)\n",
        "  new_row = {'Date': date, 'ME': params[1]*100, 'R1': params[2]*100, 'R12': params[3]*100, 'CC':params[4]*100, 'i':params[5]*100, 'BM':params[6]*100, 'r2':adj_r2*100}\n",
        "  df = df.append(new_row, ignore_index=True)\n",
        "  print(date)\n",
        "\n",
        "a.loc[a['regressor'] == 'log(me)', '(5)'] = \"{:.2f} ({:.2f})\".format(df['ME'].mean(), df['ME'].mean()/(df['ME'].std()/np.sqrt(len(df))))\n",
        "a.loc[a['regressor'] == 'R1', '(5)'] = \"{:.2f} ({:.2f})\".format(df['R1'].mean(), df['R1'].mean()/(df['R1'].std()/np.sqrt(len(df))))\n",
        "a.loc[a['regressor'] == 'R12', '(5)'] = \"{:.2f} ({:.2f})\".format(df['R12'].mean(), df['R12'].mean()/(df['R12'].std()/np.sqrt(len(df))))\n",
        "a.loc[a['regressor'] == 'log(cc/me)', '(5)'] = \"{:.2f} ({:.2f})\".format(df['CC'].mean(), df['CC'].mean()/(df['CC'].std()/np.sqrt(len(df))))\n",
        "\n",
        "a.loc[a['regressor'] == 'CC<0', '(5)'] = \"{:.2f} ({:.2f})\".format(df['i'].mean(), df['i'].mean()/(df['i'].std()/np.sqrt(len(df))))\n",
        "a.loc[a['regressor'] == 'log(Reported BE/ME)', '(5)'] = \"{:.2f} ({:.2f})\".format(df['BM'].mean(), df['BM'].mean()/(df['BM'].std()/np.sqrt(len(df))))\n",
        "\n",
        "a.loc[a['regressor'] == 'Average ADJ R2', '(5)'] = df['r2'].mean()\n"
      ],
      "metadata": {
        "id": "ZSSgGu-Oz-IS"
      },
      "execution_count": null,
      "outputs": []
    },
    {
      "cell_type": "code",
      "source": [
        "#build dataframe to store coefficients\n",
        "df = pd.DataFrame({'DATE':[], 'ME': [], 'R1': [], 'R12': [], 'cc': [], 'I': []})\n",
        "dates=crsp['date'].unique()\n",
        "import statsmodels.api as sm\n",
        "\n",
        "for date in dates:\n",
        "\n",
        "  # Create the design matrix X\n",
        "  crsp_temp=crsp[crsp['date']==date]\n",
        "  X = crsp_temp[['market_equity_log','return_t-1', 'return_t-2_t-12', 'other_book_to_market_log', 'other_book_to_market_neg', 'reported_book_to_market_log'  ]]\n",
        "  X = sm.add_constant(X)\n",
        "\n",
        "  # Create the target vector y\n",
        "  y = crsp_temp['ret_adj']\n",
        "\n",
        "  # Create the regression model without a constant\n",
        "  model = sm.OLS(y, X)\n",
        "\n",
        "  # Fit the model and print the summary\n",
        "  results = model.fit()\n",
        "  params = results.params\n",
        "  adj_r2 = results.rsquared_adj\n",
        "\n",
        "  #print(params)\n",
        "  new_row = {'Date': date, 'ME': params[1]*100, 'R1': params[2]*100, 'R12': params[3]*100, 'O':params[4]*100, 'I':params[5]*100, 'BM':params[6]*100, 'r2':adj_r2*100}\n",
        "  df = df.append(new_row, ignore_index=True)\n",
        "  print(date)\n",
        "\n",
        "a.loc[a['regressor'] == 'log(me)', '(4)'] = \"{:.2f} ({:.2f})\".format(df['ME'].mean(), df['ME'].mean()/(df['ME'].std()/np.sqrt(len(df))))\n",
        "a.loc[a['regressor'] == 'R1', '(4)'] = \"{:.2f} ({:.2f})\".format(df['R1'].mean(), df['R1'].mean()/(df['R1'].std()/np.sqrt(len(df))))\n",
        "a.loc[a['regressor'] == 'R12', '(4)'] = \"{:.2f} ({:.2f})\".format(df['R12'].mean(), df['R12'].mean()/(df['R12'].std()/np.sqrt(len(df))))\n",
        "a.loc[a['regressor'] == 'log(aoci/me)', '(4)'] = \"{:.2f} ({:.2f})\".format(df['O'].mean(), df['O'].mean()/(df['O'].std()/np.sqrt(len(df))))\n",
        "a.loc[a['regressor'] == 'log(Reported BE/ME)', '(4)'] = \"{:.2f} ({:.2f})\".format(df['BM'].mean(), df['BM'].mean()/(df['BM'].std()/np.sqrt(len(df))))\n",
        "\n",
        "a.loc[a['regressor'] == 'AOCI<0', '(4)'] = \"{:.2f} ({:.2f})\".format(df['I'].mean(), df['I'].mean()/(df['I'].std()/np.sqrt(len(df))))\n",
        "\n",
        "a.loc[a['regressor'] == 'Average ADJ R2', '(4)'] = df['r2'].mean()\n"
      ],
      "metadata": {
        "id": "7NCYJ5vl0AS7"
      },
      "execution_count": null,
      "outputs": []
    },
    {
      "cell_type": "code",
      "source": [
        "a.fillna('-', inplace=True)\n",
        "a.set_index('regressor', inplace=True)\n",
        "table2_b=a\n",
        "table2_b"
      ],
      "metadata": {
        "id": "lOkMeZbQ0C6n"
      },
      "execution_count": null,
      "outputs": []
    },
    {
      "cell_type": "markdown",
      "source": [
        "# 2C"
      ],
      "metadata": {
        "id": "iyw6fWTl0Zlh"
      }
    },
    {
      "cell_type": "code",
      "source": [
        "crsp=crsp_c\n",
        "for x in ['contributed_capital_to_market', 'retained_earnings_to_market', 'other_book_to_market', 'book_value']:\n",
        "    # Replace negative values with 0\n",
        "    #crsp[x] = crsp[x].clip(lower=0)\n",
        "    \n",
        "    # Create an indicator column which is 1 when the values are negative\n",
        "    crsp[f'{x}_neg'] = (crsp[x] < 0).astype(int)\n",
        "\n",
        "#non-missing re and cc\n",
        "crsp = crsp.dropna(subset=['re', 'cc'])\n",
        "\n",
        "#Construct Book Value Componenents Scaled by Market Equity\n",
        "crsp['book_to_market']=crsp['book_value']/crsp['market_equity']\n",
        "crsp['reported_book_to_market']=crsp['ceq']/crsp['market_equity']\n",
        "crsp['contributed_capital_to_market']=crsp['cc']/crsp['market_equity']\n",
        "crsp['retained_earnings_to_market']=crsp['re']/crsp['market_equity']\n",
        "crsp['other_book_to_market']=crsp['acominc']/crsp['market_equity']\n",
        "\n",
        "#Construct Book Value Components Scaled by Book Value of Equity\n",
        "crsp['re/b']=crsp['re']/crsp['ceq']\n",
        "crsp['cc/b']=crsp['cc']/crsp['ceq']\n",
        "crsp['other/b']=crsp['acominc']/crsp['ceq']\n",
        "\n",
        "\n",
        "\n",
        "#create log of variables \n",
        "for x in ['market_equity', 'book_to_market', 'reported_book_to_market', 'contributed_capital_to_market', 'retained_earnings_to_market', 'other_book_to_market']:\n",
        "    # Create a new log variable\n",
        "    crsp[x+'_log'] = np.log(crsp[x])\n",
        "    crsp[x+'_log'] = crsp[x+'_log'].replace([-np.inf, np.inf, np.nan], 0)\n",
        "\n",
        "\n",
        "crsp['ret_adj']/=100\n",
        "crsp['return_t-1']/=100\n",
        "crsp['return_t-2_t-12']/=100"
      ],
      "metadata": {
        "id": "9sYnB5ot0cpo"
      },
      "execution_count": null,
      "outputs": []
    },
    {
      "cell_type": "code",
      "source": [
        "#build regression dataframe\n",
        "\n",
        "a = pd.DataFrame({'regressor': ['log(me)', 'R1', 'R12', 'log(BE/ME)', 'log(re/me)',  'BE<0',  'RE<0', 'Average ADJ R2']})\n",
        "a\n",
        "#build dataframe to store coefficients\n",
        "df = pd.DataFrame({'DATE':[], 'ME': [], 'R1': [], 'R12': [], 'cc': [], 'I': []})\n",
        "dates=crsp['date'].unique()\n",
        "import statsmodels.api as sm\n",
        "\n",
        "for date in dates:\n",
        "\n",
        "  # Create the design matrix X\n",
        "  crsp_temp=crsp[crsp['date']==date]\n",
        "  X = crsp_temp[['market_equity_log','return_t-1', 'return_t-2_t-12', 'book_to_market_log', 'book_value_neg'  ]]\n",
        "  X = sm.add_constant(X)\n",
        "\n",
        "  # Create the target vector y\n",
        "  y = crsp_temp['ret_adj']\n",
        "\n",
        "  # Create the regression model without a constant\n",
        "  model = sm.OLS(y, X)\n",
        "\n",
        "  # Fit the model and print the summary\n",
        "  results = model.fit()\n",
        "  params = results.params\n",
        "  adj_r2 = results.rsquared_adj\n",
        "\n",
        "  #print(params)\n",
        "  new_row = {'Date': date, 'ME': params[1]*100, 'R1': params[2]*100, 'R12': params[3]*100, 'BM':params[4]*100, 'I':params[5]*100, 'r2':adj_r2*100}\n",
        "  df = df.append(new_row, ignore_index=True)\n",
        "  print(date)\n",
        "\n",
        "a.loc[a['regressor'] == 'log(me)', '(1)'] = \"{:.2f} ({:.2f})\".format(df['ME'].mean(), df['ME'].mean()/(df['ME'].std()/np.sqrt(len(df))))\n",
        "a.loc[a['regressor'] == 'R1', '(1)'] = \"{:.2f} ({:.2f})\".format(df['R1'].mean(), df['R1'].mean()/(df['R1'].std()/np.sqrt(len(df))))\n",
        "a.loc[a['regressor'] == 'R12', '(1)'] = \"{:.2f} ({:.2f})\".format(df['R12'].mean(), df['R12'].mean()/(df['R12'].std()/np.sqrt(len(df))))\n",
        "a.loc[a['regressor'] == 'log(BE/ME)', '(1)'] = \"{:.2f} ({:.2f})\".format(df['BM'].mean(), df['BM'].mean()/(df['BM'].std()/np.sqrt(len(df))))\n",
        "a.loc[a['regressor'] == 'BE<0', '(1)'] = \"{:.2f} ({:.2f})\".format(df['I'].mean(), df['I'].mean()/(df['I'].std()/np.sqrt(len(df))))\n",
        "\n",
        "a.loc[a['regressor'] == 'Average ADJ R2', '(1)'] = df['r2'].mean()\n"
      ],
      "metadata": {
        "id": "wmbEeCp61lXd"
      },
      "execution_count": null,
      "outputs": []
    },
    {
      "cell_type": "code",
      "source": [
        "#build dataframe to store coefficients\n",
        "df = pd.DataFrame({'DATE':[], 'ME': [], 'R1': [], 'R12': [], 'cc': [], 'I': []})\n",
        "dates=crsp['date'].unique()\n",
        "import statsmodels.api as sm\n",
        "\n",
        "for date in dates:\n",
        "\n",
        "  # Create the design matrix X\n",
        "  crsp_temp=crsp[crsp['date']==date]\n",
        "  X = crsp_temp[['market_equity_log','return_t-1', 'return_t-2_t-12', 'reported_book_to_market_log', 'retained_earnings_to_market_log', 'retained_earnings_to_market_neg', 'book_value_neg'  ]]\n",
        "  X = sm.add_constant(X)\n",
        "\n",
        "  # Create the target vector y\n",
        "  y = crsp_temp['ret_adj']\n",
        "\n",
        "  # Create the regression model without a constant\n",
        "  model = sm.OLS(y, X)\n",
        "\n",
        "  # Fit the model and print the summary\n",
        "  results = model.fit()\n",
        "  params = results.params\n",
        "  adj_r2 = results.rsquared_adj\n",
        "\n",
        "  #print(params)\n",
        "  new_row = {'Date': date, 'ME': params[1]*100, 'R1': params[2]*100, 'R12': params[3]*100, 'BM':params[4]*100, 'RE':params[5]*100, 'I':params[6]*100, 'I2':params[7]*100,  'r2':adj_r2*100}\n",
        "  df = df.append(new_row, ignore_index=True)\n",
        "  print(date)\n",
        "\n",
        "a.loc[a['regressor'] == 'log(me)', '(2)'] = \"{:.2f} ({:.2f})\".format(df['ME'].mean(), df['ME'].mean()/(df['ME'].std()/np.sqrt(len(df))))\n",
        "a.loc[a['regressor'] == 'R1', '(2)'] = \"{:.2f} ({:.2f})\".format(df['R1'].mean(), df['R1'].mean()/(df['R1'].std()/np.sqrt(len(df))))\n",
        "a.loc[a['regressor'] == 'R12', '(2)'] = \"{:.2f} ({:.2f})\".format(df['R12'].mean(), df['R12'].mean()/(df['R12'].std()/np.sqrt(len(df))))\n",
        "a.loc[a['regressor'] == 'log(Reported BE/ME)', '(2)'] = \"{:.2f} ({:.2f})\".format(df['BM'].mean(), df['BM'].mean()/(df['BM'].std()/np.sqrt(len(df))))\n",
        "a.loc[a['regressor'] == 'log(re/me)', '(2)'] = \"{:.2f} ({:.2f})\".format(df['RE'].mean(), df['RE'].mean()/(df['RE'].std()/np.sqrt(len(df))))\n",
        "a.loc[a['regressor'] == 'RE<0', '(2)'] = \"{:.2f} ({:.2f})\".format(df['I'].mean(), df['I'].mean()/(df['I'].std()/np.sqrt(len(df))))\n",
        "a.loc[a['regressor'] == 'BE<0', '(2)'] = \"{:.2f} ({:.2f})\".format(df['I2'].mean(), df['I2'].mean()/(df['I2'].std()/np.sqrt(len(df))))\n",
        "\n",
        "a.loc[a['regressor'] == 'Average ADJ R2', '(2)'] = df['r2'].mean()"
      ],
      "metadata": {
        "id": "LuTI4YM61yyt"
      },
      "execution_count": null,
      "outputs": []
    },
    {
      "cell_type": "code",
      "source": [
        "a.fillna('-', inplace=True)\n",
        "a.set_index('regressor', inplace=True)\n",
        "table2_c=a\n",
        "table2_c"
      ],
      "metadata": {
        "id": "JS-SmvwV2HLh"
      },
      "execution_count": null,
      "outputs": []
    },
    {
      "cell_type": "markdown",
      "source": [
        "# Table 3"
      ],
      "metadata": {
        "id": "G9T3qb8S2pf2"
      }
    },
    {
      "cell_type": "code",
      "source": [
        "crsp.sort_values(by=['permno', 'date'], inplace=True)"
      ],
      "metadata": {
        "id": "zV8nx8Ed20Xb"
      },
      "execution_count": null,
      "outputs": []
    },
    {
      "cell_type": "code",
      "source": [
        "crsp.set_index('date', inplace=True)"
      ],
      "metadata": {
        "id": "PUzaz5CZ4O4l"
      },
      "execution_count": null,
      "outputs": []
    },
    {
      "cell_type": "code",
      "source": [
        "crsp['ret_adj']"
      ],
      "metadata": {
        "id": "gNB8tRpJYeSd"
      },
      "execution_count": null,
      "outputs": []
    },
    {
      "cell_type": "code",
      "source": [
        "for x in range(1, 13):\n",
        "  crsp[f't+{x}']=crsp.groupby('permno')['ret_adj'].shift(-x)\n",
        "\n",
        "for x in range(1, 13):\n",
        "  #crsp[f't+{x}']/=100\n",
        "  #crsp[f't+{x}']+=1\n",
        "  '''\n",
        "  #crsp['return_t+2_t+12'] = np.cumprod(crsp.loc[:, 't+1':'t+12'], axis=1).iloc[:, -1]\n",
        "\n",
        "  # Subtract 1 and convert the result back to percentage returns\n",
        "  #crsp['return_t+2_t+12'] = (crsp['return_t+2_t+12'] - 1)\n",
        "  '''"
      ],
      "metadata": {
        "id": "2Bcp4r4x4SRU"
      },
      "execution_count": null,
      "outputs": []
    },
    {
      "cell_type": "code",
      "source": [
        "crsp.reset_index(inplace=True)\n",
        "crsp['date']=pd.to_datetime(crsp['date'])"
      ],
      "metadata": {
        "id": "nA3z3Go95NFx"
      },
      "execution_count": null,
      "outputs": []
    },
    {
      "cell_type": "code",
      "source": [
        "#get breakpoints for book value"
      ],
      "metadata": {
        "id": "O_r3yrrC7vDp"
      },
      "execution_count": null,
      "outputs": []
    },
    {
      "cell_type": "code",
      "source": [
        "crsp['date']=pd.to_datetime(crsp['date'])\n",
        "bb=crsp[(crsp['date'].dt.month==6) & (crsp['exchange']==\"NYSE\")]\n",
        "bb.to_sql('bb', conn, if_exists='replace')\n",
        "\n",
        "query='''\n",
        "        SELECT DISTINCT permno, reference_date, book_to_market as book_to_market\n",
        "        FROM bb\n",
        "        '''\n",
        "\n",
        "bb=pd.read_sql(query, conn)\n",
        "\n",
        "bb['quintile_1'] = bb.groupby('reference_date')['book_to_market'].transform(lambda x: x.quantile(0.2))\n",
        "bb['quintile_2'] = bb.groupby('reference_date')['book_to_market'].transform(lambda x: x.quantile(0.4))\n",
        "bb['quintile_3'] = bb.groupby('reference_date')['book_to_market'].transform(lambda x: x.quantile(0.6))\n",
        "bb['quintile_4'] = bb.groupby('reference_date')['book_to_market'].transform(lambda x: x.quantile(0.8))\n"
      ],
      "metadata": {
        "id": "KVHvxZrH8JSs"
      },
      "execution_count": null,
      "outputs": []
    },
    {
      "cell_type": "code",
      "source": [
        "crsp['month']=crsp['date'].dt.month"
      ],
      "metadata": {
        "id": "xf7Hy0dyCxvX"
      },
      "execution_count": null,
      "outputs": []
    },
    {
      "cell_type": "code",
      "source": [
        "crsp_june=crsp[crsp['month']==6]"
      ],
      "metadata": {
        "id": "wmfWIeDBDCpW"
      },
      "execution_count": null,
      "outputs": []
    },
    {
      "cell_type": "code",
      "source": [
        "crsp_june"
      ],
      "metadata": {
        "id": "_E2EZln-DHab"
      },
      "execution_count": null,
      "outputs": []
    },
    {
      "cell_type": "code",
      "source": [
        "bb.to_sql('bb', conn, if_exists='replace')\n",
        "query=''' \n",
        "      SELECT DISTINCT reference_date, quintile_1, quintile_2, quintile_3, quintile_4\n",
        "      FROM bb\n",
        "          '''\n",
        "\n",
        "bb=pd.read_sql(query, conn)\n",
        "  "
      ],
      "metadata": {
        "id": "rHh9PNiTFTka"
      },
      "execution_count": null,
      "outputs": []
    },
    {
      "cell_type": "code",
      "source": [
        "bb"
      ],
      "metadata": {
        "id": "ym-wSBICFw-4"
      },
      "execution_count": null,
      "outputs": []
    },
    {
      "cell_type": "code",
      "source": [
        "crsp_june.to_sql('crsp', conn, if_exists='replace')\n",
        "bb.to_sql('bb', conn, if_exists='replace')\n",
        "\n",
        "query='''\n",
        "        SELECT DISTINCT crsp.*, bb.quintile_1, bb.quintile_2, bb.quintile_3, bb.quintile_4\n",
        "        FROM crsp\n",
        "        LEFT JOIN bb\n",
        "        ON crsp.reference_date=bb.reference_date\n",
        "        '''\n",
        "\n",
        "crsp_bb=pd.read_sql(query, conn)"
      ],
      "metadata": {
        "id": "ggul-jc_DRM3"
      },
      "execution_count": null,
      "outputs": []
    },
    {
      "cell_type": "code",
      "source": [
        "crsp=crsp_bb"
      ],
      "metadata": {
        "id": "mOxd3okgF3N5"
      },
      "execution_count": null,
      "outputs": []
    },
    {
      "cell_type": "code",
      "source": [
        "# define the quantile columns and the corresponding portfolio numbers\n",
        "quantile_columns = ['quintile_1', 'quintile_2', 'quintile_3', 'quintile_4']\n",
        "portfolio_numbers = [1, 2, 3, 4, 5]\n",
        "\n",
        "# create a new column in crsp that assigns a security to a portfolio based on the quantiles\n",
        "crsp['portfolio'] = np.where(crsp['book_to_market'] <= crsp[quantile_columns[0]], \n",
        "                             portfolio_numbers[0], \n",
        "                             np.where(crsp['book_to_market'] <= crsp[quantile_columns[1]],\n",
        "                                      portfolio_numbers[1],\n",
        "                                      np.where(crsp['book_to_market'] <= crsp[quantile_columns[2]],\n",
        "                                               portfolio_numbers[2],\n",
        "                                               np.where(crsp['book_to_market'] <= crsp[quantile_columns[3]],\n",
        "                                                        portfolio_numbers[3],\n",
        "                                                        portfolio_numbers[4]))))"
      ],
      "metadata": {
        "id": "TEHPEe9CGQnk"
      },
      "execution_count": null,
      "outputs": []
    },
    {
      "cell_type": "code",
      "source": [
        "crsp['market_equity'].isnull().sum()"
      ],
      "metadata": {
        "id": "VSHx2dlxKvZc",
        "colab": {
          "base_uri": "https://localhost:8080/"
        },
        "outputId": "c188bc14-2fb9-4b77-f3aa-2eae11754521"
      },
      "execution_count": null,
      "outputs": [
        {
          "output_type": "execute_result",
          "data": {
            "text/plain": [
              "0"
            ]
          },
          "metadata": {},
          "execution_count": 78
        }
      ]
    },
    {
      "cell_type": "code",
      "source": [
        "crsp.sort_values(by='date')"
      ],
      "metadata": {
        "id": "OTEJ5xliRXIg"
      },
      "execution_count": null,
      "outputs": []
    },
    {
      "cell_type": "code",
      "source": [
        "crsp['t+1']"
      ],
      "metadata": {
        "colab": {
          "base_uri": "https://localhost:8080/"
        },
        "id": "3yYjwVr1R4Rj",
        "outputId": "8ce1afea-b541-4d86-ef18-766736ed47ce"
      },
      "execution_count": null,
      "outputs": [
        {
          "output_type": "execute_result",
          "data": {
            "text/plain": [
              "0         0.030000\n",
              "1         0.035714\n",
              "2         0.025641\n",
              "3        -0.035714\n",
              "4         0.063830\n",
              "            ...   \n",
              "170572    0.250745\n",
              "170573   -0.069816\n",
              "170574   -0.007866\n",
              "170575    0.106039\n",
              "170576   -0.105473\n",
              "Name: t+1, Length: 170577, dtype: float64"
            ]
          },
          "metadata": {},
          "execution_count": 101
        }
      ]
    },
    {
      "cell_type": "code",
      "source": [
        "crsp.dropna(subset=['return_t+2_t+12'], inplace=True)"
      ],
      "metadata": {
        "id": "7AYJyOfTGSDg"
      },
      "execution_count": null,
      "outputs": []
    },
    {
      "cell_type": "code",
      "source": [
        "crsp = crsp.dropna(subset=['t+1', 't+2', 't+3', 't+4', 't+5', 't+6', 't+7', 't+8', 't+9', 't+10', 't+11', 't+12'])\n"
      ],
      "metadata": {
        "id": "Vhr252qYT8ZR"
      },
      "execution_count": null,
      "outputs": []
    },
    {
      "cell_type": "code",
      "source": [
        "def weighted_average(x):\n",
        "    weights = x['mkt_cap']\n",
        "    return np.average(x.loc[:, 't+1':'t+12'], weights=weights, axis=0)\n",
        "\n",
        "# Apply the function to the dataframe, grouping by date and portfolio\n",
        "result = crsp.groupby(['date', 'portfolio']).apply(weighted_average)\n"
      ],
      "metadata": {
        "id": "8_ysvH42LCh0"
      },
      "execution_count": null,
      "outputs": []
    },
    {
      "cell_type": "code",
      "source": [
        "result.to_frame().reset_index()\n",
        "portfolio_avg_df=result\n",
        "portfolio_avg_df['weighted_avg'] = portfolio_avg_df[0].apply(lambda x: np.mean(x, axis=1))\n"
      ],
      "metadata": {
        "colab": {
          "base_uri": "https://localhost:8080/",
          "height": 253
        },
        "id": "lfaNB0MgV23A",
        "outputId": "2bcb760d-a142-47c4-c33a-725585898601"
      },
      "execution_count": null,
      "outputs": [
        {
          "output_type": "error",
          "ename": "AttributeError",
          "evalue": "ignored",
          "traceback": [
            "\u001b[0;31m---------------------------------------------------------------------------\u001b[0m",
            "\u001b[0;31mAttributeError\u001b[0m                            Traceback (most recent call last)",
            "\u001b[0;32m<ipython-input-109-911117038874>\u001b[0m in \u001b[0;36m<module>\u001b[0;34m\u001b[0m\n\u001b[1;32m      1\u001b[0m \u001b[0mresult\u001b[0m\u001b[0;34m.\u001b[0m\u001b[0mto_frame\u001b[0m\u001b[0;34m(\u001b[0m\u001b[0;34m)\u001b[0m\u001b[0;34m.\u001b[0m\u001b[0mreset_index\u001b[0m\u001b[0;34m(\u001b[0m\u001b[0;34m)\u001b[0m\u001b[0;34m\u001b[0m\u001b[0;34m\u001b[0m\u001b[0m\n\u001b[1;32m      2\u001b[0m \u001b[0mportfolio_avg_df\u001b[0m\u001b[0;34m=\u001b[0m\u001b[0mresult\u001b[0m\u001b[0;34m\u001b[0m\u001b[0;34m\u001b[0m\u001b[0m\n\u001b[0;32m----> 3\u001b[0;31m \u001b[0mportfolio_avg_df\u001b[0m\u001b[0;34m[\u001b[0m\u001b[0;34m'weighted_avg'\u001b[0m\u001b[0;34m]\u001b[0m \u001b[0;34m=\u001b[0m \u001b[0mportfolio_avg_df\u001b[0m\u001b[0;34m[\u001b[0m\u001b[0;36m0\u001b[0m\u001b[0;34m]\u001b[0m\u001b[0;34m.\u001b[0m\u001b[0mapply\u001b[0m\u001b[0;34m(\u001b[0m\u001b[0;32mlambda\u001b[0m \u001b[0mx\u001b[0m\u001b[0;34m:\u001b[0m \u001b[0mnp\u001b[0m\u001b[0;34m.\u001b[0m\u001b[0mmean\u001b[0m\u001b[0;34m(\u001b[0m\u001b[0mx\u001b[0m\u001b[0;34m,\u001b[0m \u001b[0maxis\u001b[0m\u001b[0;34m=\u001b[0m\u001b[0;36m1\u001b[0m\u001b[0;34m)\u001b[0m\u001b[0;34m)\u001b[0m\u001b[0;34m\u001b[0m\u001b[0;34m\u001b[0m\u001b[0m\n\u001b[0m",
            "\u001b[0;31mAttributeError\u001b[0m: 'numpy.ndarray' object has no attribute 'apply'"
          ]
        }
      ]
    },
    {
      "cell_type": "code",
      "source": [],
      "metadata": {
        "id": "Et5rl6ORnBqI"
      },
      "execution_count": null,
      "outputs": []
    },
    {
      "cell_type": "code",
      "source": [
        "result.to_frame().reset_index()\n",
        "\n",
        "df=result"
      ],
      "metadata": {
        "id": "-fsKjBJQnB3T"
      },
      "execution_count": null,
      "outputs": []
    },
    {
      "cell_type": "code",
      "source": [
        "df=portfolio_avg_df.to_frame().reset_index()"
      ],
      "metadata": {
        "id": "rED4IZPEaue1"
      },
      "execution_count": null,
      "outputs": []
    },
    {
      "cell_type": "code",
      "source": [
        "df['average_return'] = df[0].apply(lambda x: np.mean(x, axis=0))\n"
      ],
      "metadata": {
        "id": "Iui083Y2bMAs"
      },
      "execution_count": null,
      "outputs": []
    },
    {
      "cell_type": "code",
      "source": [
        "df"
      ],
      "metadata": {
        "colab": {
          "base_uri": "https://localhost:8080/",
          "height": 641
        },
        "id": "MbnvDi03bVzz",
        "outputId": "b475ec5c-5092-4a25-ea79-44143ee62acf"
      },
      "execution_count": null,
      "outputs": [
        {
          "output_type": "execute_result",
          "data": {
            "text/plain": [
              "                    date  portfolio  \\\n",
              "0    1965-06-30 00:00:00          1   \n",
              "1    1965-06-30 00:00:00          2   \n",
              "2    1965-06-30 00:00:00          3   \n",
              "3    1965-06-30 00:00:00          4   \n",
              "4    1965-06-30 00:00:00          5   \n",
              "..                   ...        ...   \n",
              "260  2017-06-30 00:00:00          1   \n",
              "261  2017-06-30 00:00:00          2   \n",
              "262  2017-06-30 00:00:00          3   \n",
              "263  2017-06-30 00:00:00          4   \n",
              "264  2017-06-30 00:00:00          5   \n",
              "\n",
              "                                                     0  average_return  \n",
              "0    [0.017228825187163236, 0.02766880348214536, 0....        0.003355  \n",
              "1    [0.0014118599732376497, 0.010698300085444899, ...       -0.000789  \n",
              "2    [0.018701822490038985, 0.02374491504786335, 0....        0.000491  \n",
              "3    [0.02575269578226031, 0.04248005216169942, 0.0...        0.013094  \n",
              "4    [0.03297212588444094, 0.01895648496342636, 0.0...        0.008613  \n",
              "..                                                 ...             ...  \n",
              "260  [0.4465955, 0.355691, 0.2535575, 0.151424, 0.2...        0.130475  \n",
              "261  [-0.013935999999999999, 0.044841, 0.044841, 0....        0.017457  \n",
              "262  [0.03729648030678315, 0.02912400225891614, 0.0...        0.018031  \n",
              "263  [-0.020954999999999998, 0.061538, 0.0778705, 0...        0.066943  \n",
              "264  [-0.035055959189830205, -0.0649337114027622, -...        0.064541  \n",
              "\n",
              "[265 rows x 4 columns]"
            ],
            "text/html": [
              "\n",
              "  <div id=\"df-5ca646c0-8fdf-495c-a525-2c6511eee2c9\">\n",
              "    <div class=\"colab-df-container\">\n",
              "      <div>\n",
              "<style scoped>\n",
              "    .dataframe tbody tr th:only-of-type {\n",
              "        vertical-align: middle;\n",
              "    }\n",
              "\n",
              "    .dataframe tbody tr th {\n",
              "        vertical-align: top;\n",
              "    }\n",
              "\n",
              "    .dataframe thead th {\n",
              "        text-align: right;\n",
              "    }\n",
              "</style>\n",
              "<table border=\"1\" class=\"dataframe\">\n",
              "  <thead>\n",
              "    <tr style=\"text-align: right;\">\n",
              "      <th></th>\n",
              "      <th>date</th>\n",
              "      <th>portfolio</th>\n",
              "      <th>0</th>\n",
              "      <th>average_return</th>\n",
              "    </tr>\n",
              "  </thead>\n",
              "  <tbody>\n",
              "    <tr>\n",
              "      <th>0</th>\n",
              "      <td>1965-06-30 00:00:00</td>\n",
              "      <td>1</td>\n",
              "      <td>[0.017228825187163236, 0.02766880348214536, 0....</td>\n",
              "      <td>0.003355</td>\n",
              "    </tr>\n",
              "    <tr>\n",
              "      <th>1</th>\n",
              "      <td>1965-06-30 00:00:00</td>\n",
              "      <td>2</td>\n",
              "      <td>[0.0014118599732376497, 0.010698300085444899, ...</td>\n",
              "      <td>-0.000789</td>\n",
              "    </tr>\n",
              "    <tr>\n",
              "      <th>2</th>\n",
              "      <td>1965-06-30 00:00:00</td>\n",
              "      <td>3</td>\n",
              "      <td>[0.018701822490038985, 0.02374491504786335, 0....</td>\n",
              "      <td>0.000491</td>\n",
              "    </tr>\n",
              "    <tr>\n",
              "      <th>3</th>\n",
              "      <td>1965-06-30 00:00:00</td>\n",
              "      <td>4</td>\n",
              "      <td>[0.02575269578226031, 0.04248005216169942, 0.0...</td>\n",
              "      <td>0.013094</td>\n",
              "    </tr>\n",
              "    <tr>\n",
              "      <th>4</th>\n",
              "      <td>1965-06-30 00:00:00</td>\n",
              "      <td>5</td>\n",
              "      <td>[0.03297212588444094, 0.01895648496342636, 0.0...</td>\n",
              "      <td>0.008613</td>\n",
              "    </tr>\n",
              "    <tr>\n",
              "      <th>...</th>\n",
              "      <td>...</td>\n",
              "      <td>...</td>\n",
              "      <td>...</td>\n",
              "      <td>...</td>\n",
              "    </tr>\n",
              "    <tr>\n",
              "      <th>260</th>\n",
              "      <td>2017-06-30 00:00:00</td>\n",
              "      <td>1</td>\n",
              "      <td>[0.4465955, 0.355691, 0.2535575, 0.151424, 0.2...</td>\n",
              "      <td>0.130475</td>\n",
              "    </tr>\n",
              "    <tr>\n",
              "      <th>261</th>\n",
              "      <td>2017-06-30 00:00:00</td>\n",
              "      <td>2</td>\n",
              "      <td>[-0.013935999999999999, 0.044841, 0.044841, 0....</td>\n",
              "      <td>0.017457</td>\n",
              "    </tr>\n",
              "    <tr>\n",
              "      <th>262</th>\n",
              "      <td>2017-06-30 00:00:00</td>\n",
              "      <td>3</td>\n",
              "      <td>[0.03729648030678315, 0.02912400225891614, 0.0...</td>\n",
              "      <td>0.018031</td>\n",
              "    </tr>\n",
              "    <tr>\n",
              "      <th>263</th>\n",
              "      <td>2017-06-30 00:00:00</td>\n",
              "      <td>4</td>\n",
              "      <td>[-0.020954999999999998, 0.061538, 0.0778705, 0...</td>\n",
              "      <td>0.066943</td>\n",
              "    </tr>\n",
              "    <tr>\n",
              "      <th>264</th>\n",
              "      <td>2017-06-30 00:00:00</td>\n",
              "      <td>5</td>\n",
              "      <td>[-0.035055959189830205, -0.0649337114027622, -...</td>\n",
              "      <td>0.064541</td>\n",
              "    </tr>\n",
              "  </tbody>\n",
              "</table>\n",
              "<p>265 rows × 4 columns</p>\n",
              "</div>\n",
              "      <button class=\"colab-df-convert\" onclick=\"convertToInteractive('df-5ca646c0-8fdf-495c-a525-2c6511eee2c9')\"\n",
              "              title=\"Convert this dataframe to an interactive table.\"\n",
              "              style=\"display:none;\">\n",
              "        \n",
              "  <svg xmlns=\"http://www.w3.org/2000/svg\" height=\"24px\"viewBox=\"0 0 24 24\"\n",
              "       width=\"24px\">\n",
              "    <path d=\"M0 0h24v24H0V0z\" fill=\"none\"/>\n",
              "    <path d=\"M18.56 5.44l.94 2.06.94-2.06 2.06-.94-2.06-.94-.94-2.06-.94 2.06-2.06.94zm-11 1L8.5 8.5l.94-2.06 2.06-.94-2.06-.94L8.5 2.5l-.94 2.06-2.06.94zm10 10l.94 2.06.94-2.06 2.06-.94-2.06-.94-.94-2.06-.94 2.06-2.06.94z\"/><path d=\"M17.41 7.96l-1.37-1.37c-.4-.4-.92-.59-1.43-.59-.52 0-1.04.2-1.43.59L10.3 9.45l-7.72 7.72c-.78.78-.78 2.05 0 2.83L4 21.41c.39.39.9.59 1.41.59.51 0 1.02-.2 1.41-.59l7.78-7.78 2.81-2.81c.8-.78.8-2.07 0-2.86zM5.41 20L4 18.59l7.72-7.72 1.47 1.35L5.41 20z\"/>\n",
              "  </svg>\n",
              "      </button>\n",
              "      \n",
              "  <style>\n",
              "    .colab-df-container {\n",
              "      display:flex;\n",
              "      flex-wrap:wrap;\n",
              "      gap: 12px;\n",
              "    }\n",
              "\n",
              "    .colab-df-convert {\n",
              "      background-color: #E8F0FE;\n",
              "      border: none;\n",
              "      border-radius: 50%;\n",
              "      cursor: pointer;\n",
              "      display: none;\n",
              "      fill: #1967D2;\n",
              "      height: 32px;\n",
              "      padding: 0 0 0 0;\n",
              "      width: 32px;\n",
              "    }\n",
              "\n",
              "    .colab-df-convert:hover {\n",
              "      background-color: #E2EBFA;\n",
              "      box-shadow: 0px 1px 2px rgba(60, 64, 67, 0.3), 0px 1px 3px 1px rgba(60, 64, 67, 0.15);\n",
              "      fill: #174EA6;\n",
              "    }\n",
              "\n",
              "    [theme=dark] .colab-df-convert {\n",
              "      background-color: #3B4455;\n",
              "      fill: #D2E3FC;\n",
              "    }\n",
              "\n",
              "    [theme=dark] .colab-df-convert:hover {\n",
              "      background-color: #434B5C;\n",
              "      box-shadow: 0px 1px 3px 1px rgba(0, 0, 0, 0.15);\n",
              "      filter: drop-shadow(0px 1px 2px rgba(0, 0, 0, 0.3));\n",
              "      fill: #FFFFFF;\n",
              "    }\n",
              "  </style>\n",
              "\n",
              "      <script>\n",
              "        const buttonEl =\n",
              "          document.querySelector('#df-5ca646c0-8fdf-495c-a525-2c6511eee2c9 button.colab-df-convert');\n",
              "        buttonEl.style.display =\n",
              "          google.colab.kernel.accessAllowed ? 'block' : 'none';\n",
              "\n",
              "        async function convertToInteractive(key) {\n",
              "          const element = document.querySelector('#df-5ca646c0-8fdf-495c-a525-2c6511eee2c9');\n",
              "          const dataTable =\n",
              "            await google.colab.kernel.invokeFunction('convertToInteractive',\n",
              "                                                     [key], {});\n",
              "          if (!dataTable) return;\n",
              "\n",
              "          const docLinkHtml = 'Like what you see? Visit the ' +\n",
              "            '<a target=\"_blank\" href=https://colab.research.google.com/notebooks/data_table.ipynb>data table notebook</a>'\n",
              "            + ' to learn more about interactive tables.';\n",
              "          element.innerHTML = '';\n",
              "          dataTable['output_type'] = 'display_data';\n",
              "          await google.colab.output.renderOutput(dataTable, element);\n",
              "          const docLink = document.createElement('div');\n",
              "          docLink.innerHTML = docLinkHtml;\n",
              "          element.appendChild(docLink);\n",
              "        }\n",
              "      </script>\n",
              "    </div>\n",
              "  </div>\n",
              "  "
            ]
          },
          "metadata": {},
          "execution_count": 115
        }
      ]
    },
    {
      "cell_type": "code",
      "source": [
        "returns=df.groupby('portfolio')['average_return'].mean().reset_index()"
      ],
      "metadata": {
        "id": "CVqlsu7xbcsA"
      },
      "execution_count": null,
      "outputs": []
    },
    {
      "cell_type": "code",
      "source": [
        "returns['average_return']*=100"
      ],
      "metadata": {
        "id": "tGZpB64kbqeH"
      },
      "execution_count": null,
      "outputs": []
    },
    {
      "cell_type": "code",
      "source": [
        "returns"
      ],
      "metadata": {
        "colab": {
          "base_uri": "https://localhost:8080/",
          "height": 206
        },
        "id": "xXULDdakbw5t",
        "outputId": "4b74059b-dbcd-4157-a966-b386280d8116"
      },
      "execution_count": null,
      "outputs": [
        {
          "output_type": "execute_result",
          "data": {
            "text/plain": [
              "   portfolio  average_return\n",
              "0          1        1.060022\n",
              "1          2        0.979117\n",
              "2          3        0.969626\n",
              "3          4        1.198721\n",
              "4          5        1.299668"
            ],
            "text/html": [
              "\n",
              "  <div id=\"df-a700b31e-f06b-45fc-96d2-c6fc7b2231bf\">\n",
              "    <div class=\"colab-df-container\">\n",
              "      <div>\n",
              "<style scoped>\n",
              "    .dataframe tbody tr th:only-of-type {\n",
              "        vertical-align: middle;\n",
              "    }\n",
              "\n",
              "    .dataframe tbody tr th {\n",
              "        vertical-align: top;\n",
              "    }\n",
              "\n",
              "    .dataframe thead th {\n",
              "        text-align: right;\n",
              "    }\n",
              "</style>\n",
              "<table border=\"1\" class=\"dataframe\">\n",
              "  <thead>\n",
              "    <tr style=\"text-align: right;\">\n",
              "      <th></th>\n",
              "      <th>portfolio</th>\n",
              "      <th>average_return</th>\n",
              "    </tr>\n",
              "  </thead>\n",
              "  <tbody>\n",
              "    <tr>\n",
              "      <th>0</th>\n",
              "      <td>1</td>\n",
              "      <td>1.060022</td>\n",
              "    </tr>\n",
              "    <tr>\n",
              "      <th>1</th>\n",
              "      <td>2</td>\n",
              "      <td>0.979117</td>\n",
              "    </tr>\n",
              "    <tr>\n",
              "      <th>2</th>\n",
              "      <td>3</td>\n",
              "      <td>0.969626</td>\n",
              "    </tr>\n",
              "    <tr>\n",
              "      <th>3</th>\n",
              "      <td>4</td>\n",
              "      <td>1.198721</td>\n",
              "    </tr>\n",
              "    <tr>\n",
              "      <th>4</th>\n",
              "      <td>5</td>\n",
              "      <td>1.299668</td>\n",
              "    </tr>\n",
              "  </tbody>\n",
              "</table>\n",
              "</div>\n",
              "      <button class=\"colab-df-convert\" onclick=\"convertToInteractive('df-a700b31e-f06b-45fc-96d2-c6fc7b2231bf')\"\n",
              "              title=\"Convert this dataframe to an interactive table.\"\n",
              "              style=\"display:none;\">\n",
              "        \n",
              "  <svg xmlns=\"http://www.w3.org/2000/svg\" height=\"24px\"viewBox=\"0 0 24 24\"\n",
              "       width=\"24px\">\n",
              "    <path d=\"M0 0h24v24H0V0z\" fill=\"none\"/>\n",
              "    <path d=\"M18.56 5.44l.94 2.06.94-2.06 2.06-.94-2.06-.94-.94-2.06-.94 2.06-2.06.94zm-11 1L8.5 8.5l.94-2.06 2.06-.94-2.06-.94L8.5 2.5l-.94 2.06-2.06.94zm10 10l.94 2.06.94-2.06 2.06-.94-2.06-.94-.94-2.06-.94 2.06-2.06.94z\"/><path d=\"M17.41 7.96l-1.37-1.37c-.4-.4-.92-.59-1.43-.59-.52 0-1.04.2-1.43.59L10.3 9.45l-7.72 7.72c-.78.78-.78 2.05 0 2.83L4 21.41c.39.39.9.59 1.41.59.51 0 1.02-.2 1.41-.59l7.78-7.78 2.81-2.81c.8-.78.8-2.07 0-2.86zM5.41 20L4 18.59l7.72-7.72 1.47 1.35L5.41 20z\"/>\n",
              "  </svg>\n",
              "      </button>\n",
              "      \n",
              "  <style>\n",
              "    .colab-df-container {\n",
              "      display:flex;\n",
              "      flex-wrap:wrap;\n",
              "      gap: 12px;\n",
              "    }\n",
              "\n",
              "    .colab-df-convert {\n",
              "      background-color: #E8F0FE;\n",
              "      border: none;\n",
              "      border-radius: 50%;\n",
              "      cursor: pointer;\n",
              "      display: none;\n",
              "      fill: #1967D2;\n",
              "      height: 32px;\n",
              "      padding: 0 0 0 0;\n",
              "      width: 32px;\n",
              "    }\n",
              "\n",
              "    .colab-df-convert:hover {\n",
              "      background-color: #E2EBFA;\n",
              "      box-shadow: 0px 1px 2px rgba(60, 64, 67, 0.3), 0px 1px 3px 1px rgba(60, 64, 67, 0.15);\n",
              "      fill: #174EA6;\n",
              "    }\n",
              "\n",
              "    [theme=dark] .colab-df-convert {\n",
              "      background-color: #3B4455;\n",
              "      fill: #D2E3FC;\n",
              "    }\n",
              "\n",
              "    [theme=dark] .colab-df-convert:hover {\n",
              "      background-color: #434B5C;\n",
              "      box-shadow: 0px 1px 3px 1px rgba(0, 0, 0, 0.15);\n",
              "      filter: drop-shadow(0px 1px 2px rgba(0, 0, 0, 0.3));\n",
              "      fill: #FFFFFF;\n",
              "    }\n",
              "  </style>\n",
              "\n",
              "      <script>\n",
              "        const buttonEl =\n",
              "          document.querySelector('#df-a700b31e-f06b-45fc-96d2-c6fc7b2231bf button.colab-df-convert');\n",
              "        buttonEl.style.display =\n",
              "          google.colab.kernel.accessAllowed ? 'block' : 'none';\n",
              "\n",
              "        async function convertToInteractive(key) {\n",
              "          const element = document.querySelector('#df-a700b31e-f06b-45fc-96d2-c6fc7b2231bf');\n",
              "          const dataTable =\n",
              "            await google.colab.kernel.invokeFunction('convertToInteractive',\n",
              "                                                     [key], {});\n",
              "          if (!dataTable) return;\n",
              "\n",
              "          const docLinkHtml = 'Like what you see? Visit the ' +\n",
              "            '<a target=\"_blank\" href=https://colab.research.google.com/notebooks/data_table.ipynb>data table notebook</a>'\n",
              "            + ' to learn more about interactive tables.';\n",
              "          element.innerHTML = '';\n",
              "          dataTable['output_type'] = 'display_data';\n",
              "          await google.colab.output.renderOutput(dataTable, element);\n",
              "          const docLink = document.createElement('div');\n",
              "          docLink.innerHTML = docLinkHtml;\n",
              "          element.appendChild(docLink);\n",
              "        }\n",
              "      </script>\n",
              "    </div>\n",
              "  </div>\n",
              "  "
            ]
          },
          "metadata": {},
          "execution_count": 126
        }
      ]
    },
    {
      "cell_type": "code",
      "source": [
        "crsp.columns"
      ],
      "metadata": {
        "colab": {
          "base_uri": "https://localhost:8080/"
        },
        "id": "cL2DUWjES3su",
        "outputId": "7c3bce54-6223-4e82-bdaf-426d58744d75"
      },
      "execution_count": null,
      "outputs": [
        {
          "output_type": "execute_result",
          "data": {
            "text/plain": [
              "Index(['level_0', 'date', 'Unnamed: 0.1', 'Unnamed: 0', 'index', 'permno',\n",
              "       'ret', 'shrout', 'altprc', 'exchcd', 'siccd', 'vol', 'mkt_cap',\n",
              "       'exchange', 'ret_adj', 'reference_date', 'return_t-1', 'return_t-2',\n",
              "       'return_t-3', 'return_t-4', 'return_t-5', 'return_t-6', 'return_t-7',\n",
              "       'return_t-8', 'return_t-9', 'return_t-10', 'return_t-11', 'return_t-12',\n",
              "       'gvkey', 'seq', 'ceq', 'at', 'lt', 'txditc', 'txdb', 'itcb', 'pstkrv',\n",
              "       'pstkl', 'pstk', 'revt', 'cogs', 'xint', 'xsga', 'xrd', 'rect', 'invt',\n",
              "       'xpp', 'drc', 'drlt', 'ap', 'xacc', 'cstk', 'caps', 'tstk', 're',\n",
              "       'acominc', 'mkvalt', 'book_value', 'market_equity', 'cc',\n",
              "       'book_to_market', 'reported_book_to_market',\n",
              "       'contributed_capital_to_market', 'retained_earnings_to_market',\n",
              "       'other_book_to_market', 're/b', 'cc/b', 'other/b', 'return_t-2_t-12',\n",
              "       'contributed_capital_to_market_neg', 'retained_earnings_to_market_neg',\n",
              "       'other_book_to_market_neg', 'market_equity_log', 'book_to_market_log',\n",
              "       'reported_book_to_market_log', 'contributed_capital_to_market_log',\n",
              "       'retained_earnings_to_market_log', 'other_book_to_market_log', 't+1',\n",
              "       't+2', 't+3', 't+4', 't+5', 't+6', 't+7', 't+8', 't+9', 't+10', 't+11',\n",
              "       't+12', 'month', 'quintile_1', 'quintile_2', 'quintile_3', 'quintile_4',\n",
              "       'portfolio'],\n",
              "      dtype='object')"
            ]
          },
          "metadata": {},
          "execution_count": 43
        }
      ]
    },
    {
      "cell_type": "code",
      "source": [
        "portfolio_avg = portfolio_avg.to_frame().reset_index()\n"
      ],
      "metadata": {
        "id": "ggE0VX2nLGFJ"
      },
      "execution_count": null,
      "outputs": []
    },
    {
      "cell_type": "code",
      "source": [
        "portfolio_avg"
      ],
      "metadata": {
        "id": "1BOnDmpqLH5F",
        "colab": {
          "base_uri": "https://localhost:8080/",
          "height": 1481
        },
        "outputId": "bbe61237-ed58-4f18-c132-b1732033508b"
      },
      "execution_count": null,
      "outputs": [
        {
          "output_type": "execute_result",
          "data": {
            "text/plain": [
              "     portfolio                 date  \\\n",
              "0            1  1965-06-30 00:00:00   \n",
              "1            1  1966-06-30 00:00:00   \n",
              "2            1  1967-06-30 00:00:00   \n",
              "3            1  1968-06-28 00:00:00   \n",
              "4            1  1969-06-30 00:00:00   \n",
              "..         ...                  ...   \n",
              "260          5  2013-06-28 00:00:00   \n",
              "261          5  2014-06-30 00:00:00   \n",
              "262          5  2015-06-30 00:00:00   \n",
              "263          5  2016-06-30 00:00:00   \n",
              "264          5  2017-06-30 00:00:00   \n",
              "\n",
              "                                                     0  \n",
              "0    [0.004174673951960097, -0.003617936102806046, ...  \n",
              "1    [0.004174673951960097, -0.003617936102806046, ...  \n",
              "2    [0.004174673951960097, -0.003617936102806046, ...  \n",
              "3    [0.004174673951960097, -0.003617936102806046, ...  \n",
              "4    [0.004174673951960097, -0.003617936102806046, ...  \n",
              "..                                                 ...  \n",
              "260  [0.004174673951960097, -0.003617936102806046, ...  \n",
              "261  [0.004174673951960097, -0.003617936102806046, ...  \n",
              "262  [0.004174673951960097, -0.003617936102806046, ...  \n",
              "263  [0.004174673951960097, -0.003617936102806046, ...  \n",
              "264  [0.004174673951960097, -0.003617936102806046, ...  \n",
              "\n",
              "[265 rows x 3 columns]"
            ],
            "text/html": [
              "\n",
              "  <div id=\"df-a8ee6855-c616-47e0-aa07-619296969ac5\">\n",
              "    <div class=\"colab-df-container\">\n",
              "      <div>\n",
              "<style scoped>\n",
              "    .dataframe tbody tr th:only-of-type {\n",
              "        vertical-align: middle;\n",
              "    }\n",
              "\n",
              "    .dataframe tbody tr th {\n",
              "        vertical-align: top;\n",
              "    }\n",
              "\n",
              "    .dataframe thead th {\n",
              "        text-align: right;\n",
              "    }\n",
              "</style>\n",
              "<table border=\"1\" class=\"dataframe\">\n",
              "  <thead>\n",
              "    <tr style=\"text-align: right;\">\n",
              "      <th></th>\n",
              "      <th>portfolio</th>\n",
              "      <th>date</th>\n",
              "      <th>0</th>\n",
              "    </tr>\n",
              "  </thead>\n",
              "  <tbody>\n",
              "    <tr>\n",
              "      <th>0</th>\n",
              "      <td>1</td>\n",
              "      <td>1965-06-30 00:00:00</td>\n",
              "      <td>[0.004174673951960097, -0.003617936102806046, ...</td>\n",
              "    </tr>\n",
              "    <tr>\n",
              "      <th>1</th>\n",
              "      <td>1</td>\n",
              "      <td>1966-06-30 00:00:00</td>\n",
              "      <td>[0.004174673951960097, -0.003617936102806046, ...</td>\n",
              "    </tr>\n",
              "    <tr>\n",
              "      <th>2</th>\n",
              "      <td>1</td>\n",
              "      <td>1967-06-30 00:00:00</td>\n",
              "      <td>[0.004174673951960097, -0.003617936102806046, ...</td>\n",
              "    </tr>\n",
              "    <tr>\n",
              "      <th>3</th>\n",
              "      <td>1</td>\n",
              "      <td>1968-06-28 00:00:00</td>\n",
              "      <td>[0.004174673951960097, -0.003617936102806046, ...</td>\n",
              "    </tr>\n",
              "    <tr>\n",
              "      <th>4</th>\n",
              "      <td>1</td>\n",
              "      <td>1969-06-30 00:00:00</td>\n",
              "      <td>[0.004174673951960097, -0.003617936102806046, ...</td>\n",
              "    </tr>\n",
              "    <tr>\n",
              "      <th>...</th>\n",
              "      <td>...</td>\n",
              "      <td>...</td>\n",
              "      <td>...</td>\n",
              "    </tr>\n",
              "    <tr>\n",
              "      <th>260</th>\n",
              "      <td>5</td>\n",
              "      <td>2013-06-28 00:00:00</td>\n",
              "      <td>[0.004174673951960097, -0.003617936102806046, ...</td>\n",
              "    </tr>\n",
              "    <tr>\n",
              "      <th>261</th>\n",
              "      <td>5</td>\n",
              "      <td>2014-06-30 00:00:00</td>\n",
              "      <td>[0.004174673951960097, -0.003617936102806046, ...</td>\n",
              "    </tr>\n",
              "    <tr>\n",
              "      <th>262</th>\n",
              "      <td>5</td>\n",
              "      <td>2015-06-30 00:00:00</td>\n",
              "      <td>[0.004174673951960097, -0.003617936102806046, ...</td>\n",
              "    </tr>\n",
              "    <tr>\n",
              "      <th>263</th>\n",
              "      <td>5</td>\n",
              "      <td>2016-06-30 00:00:00</td>\n",
              "      <td>[0.004174673951960097, -0.003617936102806046, ...</td>\n",
              "    </tr>\n",
              "    <tr>\n",
              "      <th>264</th>\n",
              "      <td>5</td>\n",
              "      <td>2017-06-30 00:00:00</td>\n",
              "      <td>[0.004174673951960097, -0.003617936102806046, ...</td>\n",
              "    </tr>\n",
              "  </tbody>\n",
              "</table>\n",
              "<p>265 rows × 3 columns</p>\n",
              "</div>\n",
              "      <button class=\"colab-df-convert\" onclick=\"convertToInteractive('df-a8ee6855-c616-47e0-aa07-619296969ac5')\"\n",
              "              title=\"Convert this dataframe to an interactive table.\"\n",
              "              style=\"display:none;\">\n",
              "        \n",
              "  <svg xmlns=\"http://www.w3.org/2000/svg\" height=\"24px\"viewBox=\"0 0 24 24\"\n",
              "       width=\"24px\">\n",
              "    <path d=\"M0 0h24v24H0V0z\" fill=\"none\"/>\n",
              "    <path d=\"M18.56 5.44l.94 2.06.94-2.06 2.06-.94-2.06-.94-.94-2.06-.94 2.06-2.06.94zm-11 1L8.5 8.5l.94-2.06 2.06-.94-2.06-.94L8.5 2.5l-.94 2.06-2.06.94zm10 10l.94 2.06.94-2.06 2.06-.94-2.06-.94-.94-2.06-.94 2.06-2.06.94z\"/><path d=\"M17.41 7.96l-1.37-1.37c-.4-.4-.92-.59-1.43-.59-.52 0-1.04.2-1.43.59L10.3 9.45l-7.72 7.72c-.78.78-.78 2.05 0 2.83L4 21.41c.39.39.9.59 1.41.59.51 0 1.02-.2 1.41-.59l7.78-7.78 2.81-2.81c.8-.78.8-2.07 0-2.86zM5.41 20L4 18.59l7.72-7.72 1.47 1.35L5.41 20z\"/>\n",
              "  </svg>\n",
              "      </button>\n",
              "      \n",
              "  <style>\n",
              "    .colab-df-container {\n",
              "      display:flex;\n",
              "      flex-wrap:wrap;\n",
              "      gap: 12px;\n",
              "    }\n",
              "\n",
              "    .colab-df-convert {\n",
              "      background-color: #E8F0FE;\n",
              "      border: none;\n",
              "      border-radius: 50%;\n",
              "      cursor: pointer;\n",
              "      display: none;\n",
              "      fill: #1967D2;\n",
              "      height: 32px;\n",
              "      padding: 0 0 0 0;\n",
              "      width: 32px;\n",
              "    }\n",
              "\n",
              "    .colab-df-convert:hover {\n",
              "      background-color: #E2EBFA;\n",
              "      box-shadow: 0px 1px 2px rgba(60, 64, 67, 0.3), 0px 1px 3px 1px rgba(60, 64, 67, 0.15);\n",
              "      fill: #174EA6;\n",
              "    }\n",
              "\n",
              "    [theme=dark] .colab-df-convert {\n",
              "      background-color: #3B4455;\n",
              "      fill: #D2E3FC;\n",
              "    }\n",
              "\n",
              "    [theme=dark] .colab-df-convert:hover {\n",
              "      background-color: #434B5C;\n",
              "      box-shadow: 0px 1px 3px 1px rgba(0, 0, 0, 0.15);\n",
              "      filter: drop-shadow(0px 1px 2px rgba(0, 0, 0, 0.3));\n",
              "      fill: #FFFFFF;\n",
              "    }\n",
              "  </style>\n",
              "\n",
              "      <script>\n",
              "        const buttonEl =\n",
              "          document.querySelector('#df-a8ee6855-c616-47e0-aa07-619296969ac5 button.colab-df-convert');\n",
              "        buttonEl.style.display =\n",
              "          google.colab.kernel.accessAllowed ? 'block' : 'none';\n",
              "\n",
              "        async function convertToInteractive(key) {\n",
              "          const element = document.querySelector('#df-a8ee6855-c616-47e0-aa07-619296969ac5');\n",
              "          const dataTable =\n",
              "            await google.colab.kernel.invokeFunction('convertToInteractive',\n",
              "                                                     [key], {});\n",
              "          if (!dataTable) return;\n",
              "\n",
              "          const docLinkHtml = 'Like what you see? Visit the ' +\n",
              "            '<a target=\"_blank\" href=https://colab.research.google.com/notebooks/data_table.ipynb>data table notebook</a>'\n",
              "            + ' to learn more about interactive tables.';\n",
              "          element.innerHTML = '';\n",
              "          dataTable['output_type'] = 'display_data';\n",
              "          await google.colab.output.renderOutput(dataTable, element);\n",
              "          const docLink = document.createElement('div');\n",
              "          docLink.innerHTML = docLinkHtml;\n",
              "          element.appendChild(docLink);\n",
              "        }\n",
              "      </script>\n",
              "    </div>\n",
              "  </div>\n",
              "  "
            ]
          },
          "metadata": {},
          "execution_count": 105
        }
      ]
    },
    {
      "cell_type": "code",
      "source": [
        "portfolio_returns = portfolio_avg.groupby('portfolio')[0].mean().reset_index()\n"
      ],
      "metadata": {
        "id": "LQLsNalQLPyc"
      },
      "execution_count": null,
      "outputs": []
    },
    {
      "cell_type": "code",
      "source": [
        "portfolio_returns"
      ],
      "metadata": {
        "id": "sPbg-I73LUGj"
      },
      "execution_count": null,
      "outputs": []
    },
    {
      "cell_type": "code",
      "source": [],
      "metadata": {
        "id": "FvyH2Nd5yaW-"
      },
      "execution_count": null,
      "outputs": []
    }
  ]
}